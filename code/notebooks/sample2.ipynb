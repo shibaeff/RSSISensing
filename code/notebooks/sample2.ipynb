{
 "cells": [
  {
   "cell_type": "code",
   "execution_count": 1,
   "metadata": {
    "collapsed": true
   },
   "outputs": [],
   "source": [
    "import pandas as pd\n",
    "\n",
    "from code.parser.parse import Parser\n",
    "import matplotlib.pyplot as plt\n",
    "from code.wiener_kolmogorov.wiener_kolmogorov import WienerKolmogorov as WK\n",
    "from code.detector.detector import  Detector\n",
    "import numpy as np\n",
    "import datetime\n",
    "\n",
    "pre1 = Parser.read('../../runs/1/pre.txt')\n",
    "abs1 = Parser.read('../../runs/1/abs.txt')\n",
    "pre2 = Parser.read('../../runs/2/pre.txt')\n",
    "abs2 = Parser.read('../../runs/2/abs.txt')"
   ]
  },
  {
   "cell_type": "code",
   "execution_count": 2,
   "outputs": [],
   "source": [
    "pre1 = pd.concat([pre1, abs1], ignore_index=True)\n",
    "abs1 = pd.concat([abs1, abs1], ignore_index=True)\n",
    "pre2 = pd.concat([pre2, abs2], ignore_index=True)\n",
    "abs2 = pd.concat([abs2, abs2], ignore_index=True)"
   ],
   "metadata": {
    "collapsed": false,
    "pycharm": {
     "name": "#%%\n"
    }
   }
  },
  {
   "cell_type": "code",
   "execution_count": 3,
   "outputs": [],
   "source": [
    "pre1 = pre1.rename(columns={\"time\": \"ds\"})\n",
    "pre2 = pre2.rename(columns={\"time\": \"ds\"})"
   ],
   "metadata": {
    "collapsed": false,
    "pycharm": {
     "name": "#%%\n"
    }
   }
  },
  {
   "cell_type": "code",
   "execution_count": 4,
   "outputs": [],
   "source": [
    "pre1 = pd.concat([pre1, pre2], ignore_index=True)"
   ],
   "metadata": {
    "collapsed": false,
    "pycharm": {
     "name": "#%%\n"
    }
   }
  },
  {
   "cell_type": "code",
   "execution_count": 5,
   "outputs": [],
   "source": [
    "pre1.ds = [(datetime.datetime.now() + datetime.timedelta(seconds=i)) for i in range(0,  400, 1)]\n",
    "pre2.ds = [(datetime.datetime.now() + datetime.timedelta(seconds=i)) for i in range(0,  200, 1)]"
   ],
   "metadata": {
    "collapsed": false,
    "pycharm": {
     "name": "#%%\n"
    }
   }
  },
  {
   "cell_type": "code",
   "execution_count": 6,
   "outputs": [],
   "source": [
    "from autosklearn.classification import AutoSklearnClassifier"
   ],
   "metadata": {
    "collapsed": false,
    "pycharm": {
     "name": "#%%\n"
    }
   }
  },
  {
   "cell_type": "code",
   "execution_count": 7,
   "outputs": [
    {
     "data": {
      "text/plain": "array([-29., -27., -26., -27., -26., -26., -26., -27., -27., -27., -27.,\n       -27., -32., -35., -34., -38., -28., -38., -27., -38., -38., -34.,\n       -38., -38., -38., -35., -27., -38., -38., -38., -27., -38., -38.,\n       -35., -38., -38., -38., -35., -38., -32., -38., -35., -27., -38.,\n       -38., -38., -38., -38., -35., -38., -20., -20., -19., -20., -21.,\n       -19., -21., -18., -22., -20., -20., -20., -19., -22., -19., -18.,\n       -22., -23., -18., -19., -21., -21., -20., -21., -18., -21., -22.,\n       -22., -20., -21., -24., -20., -23., -20., -20., -22., -24., -19.,\n       -20., -17., -19., -18., -20., -20., -19., -21., -22., -20., -20.,\n       -19., -20., -20., -19., -20., -21., -19., -21., -18., -22., -20.,\n       -20., -20., -19., -22., -19., -18., -22., -23., -18., -19., -21.,\n       -21., -20., -21., -18., -21., -22., -22., -20., -21., -24., -20.,\n       -23., -20., -20., -22., -24., -19., -20., -17., -19., -18., -20.,\n       -20., -19., -21., -22., -20., -20., -19., -18., -19., -21., -18.,\n       -18., -20., -20., -21., -20., -23., -18., -21., -20., -20., -23.,\n       -21., -17., -22., -21., -17., -20., -20., -20., -20., -24., -22.,\n       -20., -21., -19., -22., -16., -19., -21., -20., -17., -22., -21.,\n       -23., -19., -20., -20., -22., -21., -17., -20., -19., -17., -22.,\n       -17., -20., -20., -36., -33., -38., -43., -44., -28., -36., -32.,\n       -46., -33., -34., -37., -28., -44., -27., -38., -36., -33., -25.,\n       -36., -49., -41., -34., -40., -21., -20., -33., -27., -25., -26.,\n       -42., -28., -28., -37., -30., -45., -34.,  -8., -27., -34., -31.,\n       -17., -17., -45., -52., -36., -25., -28., -38., -24., -23., -25.,\n       -25., -26., -25., -23., -26., -23., -22., -27., -24., -25., -24.,\n       -25., -24., -23., -23., -25., -22., -27., -24., -26., -27., -23.,\n       -25., -26., -26., -25., -28., -28., -26., -24., -23., -29., -22.,\n       -28., -24., -26., -26., -22., -25., -26., -27., -25., -25., -25.,\n       -23., -23., -26., -20., -20., -20., -21., -18., -20., -20., -21.,\n       -19., -20., -18., -17., -18., -22., -22., -20., -20., -23., -23.,\n       -22., -22., -20., -21., -22., -20., -21., -22., -21., -19., -19.,\n       -20., -21., -23., -20., -21., -21., -19., -20., -22., -19., -19.,\n       -21., -19., -19., -20., -19., -25., -22., -22., -21., -20., -18.,\n       -20., -20., -18., -21., -21., -21., -22., -21., -18., -23., -19.,\n       -20., -22., -22., -19., -21., -19., -20., -19., -17., -19., -22.,\n       -21., -20., -18., -23., -21., -20., -20., -18., -19., -20., -18.,\n       -19., -22., -20., -19., -17., -21., -19., -18., -19., -17., -19.,\n       -21., -19., -18., -21.])"
     },
     "execution_count": 7,
     "metadata": {},
     "output_type": "execute_result"
    }
   ],
   "source": [
    "pre1.rssi.to_numpy()"
   ],
   "metadata": {
    "collapsed": false,
    "pycharm": {
     "name": "#%%\n"
    }
   }
  },
  {
   "cell_type": "code",
   "execution_count": 8,
   "outputs": [
    {
     "ename": "AttributeError",
     "evalue": "'DataFrame' object has no attribute 'y'",
     "output_type": "error",
     "traceback": [
      "\u001B[0;31m---------------------------------------------------------------------------\u001B[0m",
      "\u001B[0;31mAttributeError\u001B[0m                            Traceback (most recent call last)",
      "\u001B[0;32m<ipython-input-8-18946eeec8eb>\u001B[0m in \u001B[0;36m<module>\u001B[0;34m\u001B[0m\n\u001B[1;32m      1\u001B[0m \u001B[0mac\u001B[0m \u001B[0;34m=\u001B[0m \u001B[0mAutoSklearnClassifier\u001B[0m\u001B[0;34m(\u001B[0m\u001B[0mmemory_limit\u001B[0m\u001B[0;34m=\u001B[0m\u001B[0;36m5000\u001B[0m\u001B[0;34m,\u001B[0m \u001B[0mtime_left_for_this_task\u001B[0m\u001B[0;34m=\u001B[0m\u001B[0;36m120\u001B[0m\u001B[0;34m)\u001B[0m\u001B[0;34m\u001B[0m\u001B[0;34m\u001B[0m\u001B[0m\n\u001B[0;32m----> 2\u001B[0;31m \u001B[0mac\u001B[0m\u001B[0;34m.\u001B[0m\u001B[0mfit\u001B[0m\u001B[0;34m(\u001B[0m\u001B[0mpre1\u001B[0m\u001B[0;34m.\u001B[0m\u001B[0mrssi\u001B[0m\u001B[0;34m.\u001B[0m\u001B[0mto_numpy\u001B[0m\u001B[0;34m(\u001B[0m\u001B[0;34m)\u001B[0m\u001B[0;34m[\u001B[0m\u001B[0;34m:\u001B[0m\u001B[0;34m,\u001B[0m\u001B[0mnp\u001B[0m\u001B[0;34m.\u001B[0m\u001B[0mnewaxis\u001B[0m\u001B[0;34m]\u001B[0m\u001B[0;34m,\u001B[0m \u001B[0mpre1\u001B[0m\u001B[0;34m.\u001B[0m\u001B[0my\u001B[0m\u001B[0;34m.\u001B[0m\u001B[0mto_numpy\u001B[0m\u001B[0;34m(\u001B[0m\u001B[0;34m)\u001B[0m\u001B[0;34m)\u001B[0m\u001B[0;34m\u001B[0m\u001B[0;34m\u001B[0m\u001B[0m\n\u001B[0m",
      "\u001B[0;32m~/.local/lib/python3.8/site-packages/pandas/core/generic.py\u001B[0m in \u001B[0;36m__getattr__\u001B[0;34m(self, name)\u001B[0m\n\u001B[1;32m   5139\u001B[0m             \u001B[0;32mif\u001B[0m \u001B[0mself\u001B[0m\u001B[0;34m.\u001B[0m\u001B[0m_info_axis\u001B[0m\u001B[0;34m.\u001B[0m\u001B[0m_can_hold_identifiers_and_holds_name\u001B[0m\u001B[0;34m(\u001B[0m\u001B[0mname\u001B[0m\u001B[0;34m)\u001B[0m\u001B[0;34m:\u001B[0m\u001B[0;34m\u001B[0m\u001B[0;34m\u001B[0m\u001B[0m\n\u001B[1;32m   5140\u001B[0m                 \u001B[0;32mreturn\u001B[0m \u001B[0mself\u001B[0m\u001B[0;34m[\u001B[0m\u001B[0mname\u001B[0m\u001B[0;34m]\u001B[0m\u001B[0;34m\u001B[0m\u001B[0;34m\u001B[0m\u001B[0m\n\u001B[0;32m-> 5141\u001B[0;31m             \u001B[0;32mreturn\u001B[0m \u001B[0mobject\u001B[0m\u001B[0;34m.\u001B[0m\u001B[0m__getattribute__\u001B[0m\u001B[0;34m(\u001B[0m\u001B[0mself\u001B[0m\u001B[0;34m,\u001B[0m \u001B[0mname\u001B[0m\u001B[0;34m)\u001B[0m\u001B[0;34m\u001B[0m\u001B[0;34m\u001B[0m\u001B[0m\n\u001B[0m\u001B[1;32m   5142\u001B[0m \u001B[0;34m\u001B[0m\u001B[0m\n\u001B[1;32m   5143\u001B[0m     \u001B[0;32mdef\u001B[0m \u001B[0m__setattr__\u001B[0m\u001B[0;34m(\u001B[0m\u001B[0mself\u001B[0m\u001B[0;34m,\u001B[0m \u001B[0mname\u001B[0m\u001B[0;34m:\u001B[0m \u001B[0mstr\u001B[0m\u001B[0;34m,\u001B[0m \u001B[0mvalue\u001B[0m\u001B[0;34m)\u001B[0m \u001B[0;34m->\u001B[0m \u001B[0;32mNone\u001B[0m\u001B[0;34m:\u001B[0m\u001B[0;34m\u001B[0m\u001B[0;34m\u001B[0m\u001B[0m\n",
      "\u001B[0;31mAttributeError\u001B[0m: 'DataFrame' object has no attribute 'y'"
     ]
    }
   ],
   "source": [
    "ac = AutoSklearnClassifier(memory_limit=5000, time_left_for_this_task=120)\n",
    "ac.fit(pre1.rssi.to_numpy()[:,np.newaxis], pre1.y.to_numpy())"
   ],
   "metadata": {
    "collapsed": false,
    "pycharm": {
     "name": "#%%\n"
    }
   }
  },
  {
   "cell_type": "code",
   "execution_count": 9,
   "outputs": [
    {
     "ename": "AttributeError",
     "evalue": "'NoneType' object has no attribute 'runhistory_'",
     "output_type": "error",
     "traceback": [
      "\u001B[0;31m---------------------------------------------------------------------------\u001B[0m",
      "\u001B[0;31mAttributeError\u001B[0m                            Traceback (most recent call last)",
      "\u001B[0;32m<ipython-input-9-108725231bac>\u001B[0m in \u001B[0;36m<module>\u001B[0;34m\u001B[0m\n\u001B[0;32m----> 1\u001B[0;31m \u001B[0mac\u001B[0m\u001B[0;34m.\u001B[0m\u001B[0mleaderboard\u001B[0m\u001B[0;34m(\u001B[0m\u001B[0;34m)\u001B[0m\u001B[0;34m\u001B[0m\u001B[0;34m\u001B[0m\u001B[0m\n\u001B[0m",
      "\u001B[0;32m~/.local/lib/python3.8/site-packages/autosklearn/estimators.py\u001B[0m in \u001B[0;36mleaderboard\u001B[0;34m(self, detailed, ensemble_only, top_k, sort_by, sort_order, include)\u001B[0m\n\u001B[1;32m    798\u001B[0m                 \u001B[0;32mif\u001B[0m \u001B[0mhas_key\u001B[0m\u001B[0;34m(\u001B[0m\u001B[0mrval\u001B[0m\u001B[0;34m,\u001B[0m \u001B[0;34m'configuration_origin'\u001B[0m\u001B[0;34m)\u001B[0m \u001B[0;32melse\u001B[0m \u001B[0;32mNone\u001B[0m\u001B[0;34m\u001B[0m\u001B[0;34m\u001B[0m\u001B[0m\n\u001B[1;32m    799\u001B[0m             }\n\u001B[0;32m--> 800\u001B[0;31m             \u001B[0;32mfor\u001B[0m \u001B[0mrkey\u001B[0m\u001B[0;34m,\u001B[0m \u001B[0mrval\u001B[0m \u001B[0;32min\u001B[0m \u001B[0mself\u001B[0m\u001B[0;34m.\u001B[0m\u001B[0mautoml_\u001B[0m\u001B[0;34m.\u001B[0m\u001B[0mrunhistory_\u001B[0m\u001B[0;34m.\u001B[0m\u001B[0mdata\u001B[0m\u001B[0;34m.\u001B[0m\u001B[0mitems\u001B[0m\u001B[0;34m(\u001B[0m\u001B[0;34m)\u001B[0m\u001B[0;34m\u001B[0m\u001B[0;34m\u001B[0m\u001B[0m\n\u001B[0m\u001B[1;32m    801\u001B[0m             \u001B[0;32mif\u001B[0m \u001B[0mhas_key\u001B[0m\u001B[0;34m(\u001B[0m\u001B[0mrval\u001B[0m\u001B[0;34m,\u001B[0m \u001B[0;34m'num_run'\u001B[0m\u001B[0;34m)\u001B[0m\u001B[0;34m\u001B[0m\u001B[0;34m\u001B[0m\u001B[0m\n\u001B[1;32m    802\u001B[0m         }\n",
      "\u001B[0;31mAttributeError\u001B[0m: 'NoneType' object has no attribute 'runhistory_'"
     ]
    }
   ],
   "source": [
    "ac.leaderboard()"
   ],
   "metadata": {
    "collapsed": false,
    "pycharm": {
     "name": "#%%\n"
    }
   }
  },
  {
   "cell_type": "code",
   "execution_count": null,
   "outputs": [],
   "source": [
    "predict = ac.predict(pre2.rssi.to_numpy()[:,np.newaxis])"
   ],
   "metadata": {
    "collapsed": false,
    "pycharm": {
     "name": "#%%\n"
    }
   }
  },
  {
   "cell_type": "code",
   "execution_count": null,
   "outputs": [],
   "source": [
    "from sklearn.metrics import accuracy_score"
   ],
   "metadata": {
    "collapsed": false,
    "pycharm": {
     "name": "#%%\n"
    }
   }
  },
  {
   "cell_type": "code",
   "execution_count": null,
   "outputs": [],
   "source": [
    "accuracy_score(pre2.y.to_numpy(), predict)"
   ],
   "metadata": {
    "collapsed": false,
    "pycharm": {
     "name": "#%%\n"
    }
   }
  },
  {
   "cell_type": "code",
   "execution_count": null,
   "outputs": [],
   "source": [
    "def filter_out(pres, abss):\n",
    "    filters = []\n",
    "    for abs in abss:\n",
    "        filter = WK()\n",
    "        filter.fit(abs[\"rssi\"].to_numpy())\n",
    "        filters.append(filter)\n",
    "    outs = []\n",
    "    print(filters)\n",
    "    for i, pre in enumerate(pres):\n",
    "        out = filters[i].transform(pre[\"rssi\"].to_numpy())\n",
    "        outs.append(out)\n",
    "    return outs, filters"
   ],
   "metadata": {
    "collapsed": false,
    "pycharm": {
     "name": "#%%\n"
    }
   }
  },
  {
   "cell_type": "code",
   "execution_count": null,
   "outputs": [],
   "source": [
    "outs, _ = filter_out([pre1], [abs1])"
   ],
   "metadata": {
    "collapsed": false,
    "pycharm": {
     "name": "#%%\n"
    }
   }
  },
  {
   "cell_type": "code",
   "execution_count": null,
   "outputs": [],
   "source": [
    "from scipy.signal import medfilt, order_filter"
   ],
   "metadata": {
    "collapsed": false,
    "pycharm": {
     "name": "#%%\n"
    }
   }
  },
  {
   "cell_type": "code",
   "execution_count": null,
   "outputs": [],
   "source": [
    "from sklearn.ensemble import RandomForestClassifier\n",
    "forest = RandomForestClassifier()\n",
    "forest.fit(pre1.rssi.to_numpy()[:,np.newaxis], pre1.y)\n",
    "predict = forest.predict(pre2.rssi.to_numpy()[:,np.newaxis])\n",
    "accuracy_score(pre2.y.to_numpy(), medfilt(predict, kernel_size=13))"
   ],
   "metadata": {
    "collapsed": false,
    "pycharm": {
     "name": "#%%\n"
    }
   }
  },
  {
   "cell_type": "code",
   "execution_count": null,
   "outputs": [],
   "source": [
    "from sklearn.ensemble import AdaBoostClassifier\n",
    "forest = AdaBoostClassifier()\n",
    "forest.fit(pre1.rssi.to_numpy()[:,np.newaxis], pre1.y)\n",
    "predict = forest.predict(pre2.rssi.to_numpy()[:,np.newaxis])\n",
    "accuracy_score(pre2.y.to_numpy(), medfilt(predict, kernel_size=13))"
   ],
   "metadata": {
    "collapsed": false,
    "pycharm": {
     "name": "#%%\n"
    }
   }
  },
  {
   "cell_type": "code",
   "execution_count": null,
   "outputs": [],
   "source": [
    "from sklearn.ensemble import GradientBoostingClassifier\n",
    "forest = GradientBoostingClassifier(learning_rate=0.00001)\n",
    "forest.fit(pre1.rssi.to_numpy()[:,np.newaxis], pre1.y)\n",
    "predict = forest.predict(pre2.rssi.to_numpy()[:,np.newaxis])\n",
    "accuracy_score(pre2.y.to_numpy(), medfilt(predict, kernel_size=13))"
   ],
   "metadata": {
    "collapsed": false,
    "pycharm": {
     "name": "#%%\n"
    }
   }
  },
  {
   "cell_type": "code",
   "execution_count": null,
   "outputs": [],
   "source": [
    "\n"
   ],
   "metadata": {
    "collapsed": false,
    "pycharm": {
     "name": "#%%\n"
    }
   }
  },
  {
   "cell_type": "code",
   "execution_count": null,
   "outputs": [],
   "source": [
    "forest.n_estimators"
   ],
   "metadata": {
    "collapsed": false,
    "pycharm": {
     "name": "#%%\n"
    }
   }
  },
  {
   "cell_type": "code",
   "execution_count": null,
   "outputs": [],
   "source": [
    "# axs.append(fig.add_subplot(n, 1, k))\n",
    "#         axs[k - 1].plot(pre.rssi.to_numpy(), label=legend[0], linestyle=\"solid\")\n",
    "#         axs[k-1].set_xticks(ticks)\n",
    "#         axs[k-1].set_xlabel(\"Время, с\")\n",
    "#         axs[k-1].set_ylabel(\"RSSI, dBm\")\n",
    "#         axs[k - 1].plot(out, label=legend[1], linestyle=\"dashed\")\n",
    "#         # axs[k - 1].legend()\n",
    "#         axs[k - 1].set(title=titles[k-1])\n",
    "plt.rcParams.update({'font.size': 25})\n",
    "plt.figure(figsize=(20, 6))\n",
    "plt.plot(pre1.rssi.to_numpy(), label=\"RSSI до обработки\", linestyle=\":\", marker=\".\")\n",
    "plt.plot(outs[0], label=\"RSSI после обработки\", linestyle=\"--\", marker=\"s\")\n",
    "plt.title(\"Замеры RSSI в жилой комнате\")\n",
    "plt.legend(loc=\"lower right\")\n",
    "plt.savefig(\"shibaev_1.png\")"
   ],
   "metadata": {
    "collapsed": false,
    "pycharm": {
     "name": "#%%\n"
    }
   }
  },
  {
   "cell_type": "code",
   "execution_count": null,
   "outputs": [],
   "source": [
    "plt.rcParams.update({'font.size': 25})\n",
    "plt.figure(figsize=(20, 6))\n",
    "plt.plot(pre1.rssi.to_numpy(), label=\"RSSI до обработки\", linestyle=\":\", marker=\".\")\n",
    "plt.plot(outs[0], label=\"RSSI после обработки\", linestyle=\"--\", marker=\"s\")\n",
    "plt.title(\"Замеры RSSI в офисе\")\n",
    "plt.legend(loc=\"lower right\")\n",
    "plt.savefig(\"shibaev_2.png\")"
   ],
   "metadata": {
    "collapsed": false,
    "pycharm": {
     "name": "#%%\n"
    }
   }
  }
 ],
 "metadata": {
  "kernelspec": {
   "display_name": "Python 3",
   "language": "python",
   "name": "python3"
  },
  "language_info": {
   "codemirror_mode": {
    "name": "ipython",
    "version": 2
   },
   "file_extension": ".py",
   "mimetype": "text/x-python",
   "name": "python",
   "nbconvert_exporter": "python",
   "pygments_lexer": "ipython2",
   "version": "2.7.6"
  }
 },
 "nbformat": 4,
 "nbformat_minor": 0
}