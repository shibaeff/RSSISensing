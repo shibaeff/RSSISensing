{
 "cells": [
  {
   "cell_type": "code",
   "execution_count": 1,
   "metadata": {
    "collapsed": true,
    "pycharm": {
     "name": "#%%\n"
    }
   },
   "outputs": [
    {
     "name": "stderr",
     "output_type": "stream",
     "text": [
      "2022-05-23 19:47:35.634224: W tensorflow/stream_executor/platform/default/dso_loader.cc:64] Could not load dynamic library 'libcudart.so.11.0'; dlerror: libcudart.so.11.0: cannot open shared object file: No such file or directory\n",
      "2022-05-23 19:47:35.634270: I tensorflow/stream_executor/cuda/cudart_stub.cc:29] Ignore above cudart dlerror if you do not have a GPU set up on your machine.\n"
     ]
    }
   ],
   "source": [
    "import pandas as pd\n",
    "from src.gru.gru import gru\n",
    "from src.parser.parse import Parser\n",
    "from src.gru.gru import GRUModel\n",
    "import matplotlib.pyplot as plt\n",
    "from sklearn.metrics import accuracy_score, confusion_matrix\n",
    "from src.wiener_kolmogorov.wiener_kolmogorov import WienerKolmogorov as WK\n",
    "from src.detector.detector import  Detector\n",
    "import numpy as np\n",
    "from tensorflow import keras\n",
    "from keras.utils.vis_utils import plot_model\n",
    "from sklearn.model_selection import train_test_split\n",
    "from keras.models import load_model"
   ]
  },
  {
   "cell_type": "code",
   "execution_count": 2,
   "outputs": [],
   "source": [
    "def rates(true, pre, positives, negatives):\n",
    "    tn, fp, fn, tp = confusion_matrix(true, pre).ravel()\n",
    "    return accuracy_score(true, pre), tp / positives, tn / negatives"
   ],
   "metadata": {
    "collapsed": false,
    "pycharm": {
     "name": "#%%\n"
    }
   }
  },
  {
   "cell_type": "code",
   "execution_count": 3,
   "outputs": [],
   "source": [
    "def lstm_data_transform(x_data, y_data, num_steps=5):\n",
    "    X, y = list(), list()\n",
    "    for i in range(x_data.shape[0]):\n",
    "        end_ix = i + num_steps\n",
    "        if end_ix >= x_data.shape[0]:\n",
    "            break\n",
    "        seq_X = x_data[i:end_ix]\n",
    "        seq_y = y_data[end_ix]\n",
    "        X.append(seq_X)\n",
    "        y.append(seq_y)\n",
    "    x_array = np.array(X)\n",
    "    y_array = np.array(y)\n",
    "    return x_array, y_array"
   ],
   "metadata": {
    "collapsed": false,
    "pycharm": {
     "name": "#%%\n"
    }
   }
  },
  {
   "cell_type": "code",
   "execution_count": 4,
   "outputs": [],
   "source": [
    "def clean(preds):\n",
    "    res= []\n",
    "    for pred in preds:\n",
    "        d0 = abs(pred - 0)\n",
    "        d1 = abs(pred - 1)\n",
    "        if d0 < d1:\n",
    "            res.append(0)\n",
    "        else:\n",
    "            res.append(1)\n",
    "    return res"
   ],
   "metadata": {
    "collapsed": false,
    "pycharm": {
     "name": "#%%\n"
    }
   }
  },
  {
   "cell_type": "code",
   "execution_count": 5,
   "outputs": [],
   "source": [
    "\n",
    "df = pd.read_csv('../../runs/3/office.csv')\n",
    "df = df[:2100]\n",
    "df = df[[\"RSSI\"]]\n",
    "\n",
    "window = 300\n",
    "zeros = np.zeros(window)\n",
    "ones = np.ones(window)\n",
    "y = ones\n",
    "l = len(ones) + window\n",
    "f = True\n",
    "while l <= 2100:\n",
    "    if f:\n",
    "        y = np.concatenate((y, zeros))\n",
    "        f = False\n",
    "    else:\n",
    "        y = np.concatenate((y, ones))\n",
    "        f = True\n",
    "    l += window\n",
    "num_steps = 500\n",
    "\n",
    "\n"
   ],
   "metadata": {
    "collapsed": false,
    "pycharm": {
     "name": "#%%\n"
    }
   }
  },
  {
   "cell_type": "code",
   "execution_count": 7,
   "outputs": [
    {
     "data": {
      "text/plain": "(2100, 1)"
     },
     "execution_count": 7,
     "metadata": {},
     "output_type": "execute_result"
    }
   ],
   "source": [
    "df.shape"
   ],
   "metadata": {
    "collapsed": false,
    "pycharm": {
     "name": "#%%\n"
    }
   }
  },
  {
   "cell_type": "code",
   "execution_count": 9,
   "outputs": [
    {
     "data": {
      "text/plain": "(1600, 500)"
     },
     "execution_count": 9,
     "metadata": {},
     "output_type": "execute_result"
    }
   ],
   "source": [
    "X.shape"
   ],
   "metadata": {
    "collapsed": false,
    "pycharm": {
     "name": "#%%\n"
    }
   }
  },
  {
   "cell_type": "code",
   "execution_count": 6,
   "outputs": [],
   "source": [
    "X, y = lstm_data_transform(df[\"RSSI\"].to_numpy(), y, num_steps=num_steps)\n",
    "X_train, X_test, y_train, y_test = train_test_split(X, y, test_size=0.285)\n",
    "\n",
    "from keras.models import Sequential\n",
    "from keras.layers import Dense, Dropout\n",
    "from keras.layers import LSTM, GRU, SimpleRNN, Activation\n",
    "from keras.layers import Dropout\n",
    "from keras.regularizers import l2\n",
    "import numpy as np\n",
    "from keras import optimizers"
   ],
   "metadata": {
    "collapsed": false,
    "pycharm": {
     "name": "#%%\n"
    }
   }
  },
  {
   "cell_type": "code",
   "execution_count": null,
   "outputs": [],
   "source": [
    "\n",
    "\n",
    "model = Sequential()\n",
    "model.add(GRU(200, activation='tanh', input_shape=(num_steps, 1),\n",
    "               return_sequences=False))\n",
    "model.add(Dense(units=50, activation='relu'))\n",
    "model.add(Dense(units=1, activation='linear'))\n",
    "model.compile(optimizer=\"adam\", loss='mse')"
   ],
   "metadata": {
    "collapsed": false,
    "pycharm": {
     "name": "#%%\n"
    }
   }
  },
  {
   "cell_type": "code",
   "execution_count": 6,
   "outputs": [
    {
     "name": "stdout",
     "output_type": "stream",
     "text": [
      "Epoch 1/35\n",
      "36/36 [==============================] - 15s 374ms/step - loss: 0.2574\n",
      "Epoch 2/35\n",
      "36/36 [==============================] - 13s 367ms/step - loss: 0.1563\n",
      "Epoch 3/35\n",
      "36/36 [==============================] - 14s 378ms/step - loss: 0.1173\n",
      "Epoch 4/35\n",
      "36/36 [==============================] - 13s 367ms/step - loss: 0.1113\n",
      "Epoch 5/35\n",
      "36/36 [==============================] - 13s 366ms/step - loss: 0.1127\n",
      "Epoch 6/35\n",
      "36/36 [==============================] - 13s 370ms/step - loss: 0.1159\n",
      "Epoch 7/35\n",
      "36/36 [==============================] - 13s 369ms/step - loss: 0.0899\n",
      "Epoch 8/35\n",
      "36/36 [==============================] - 13s 365ms/step - loss: 0.1033\n",
      "Epoch 9/35\n",
      "36/36 [==============================] - 13s 367ms/step - loss: 0.1062\n",
      "Epoch 10/35\n",
      "36/36 [==============================] - 13s 368ms/step - loss: 0.0801\n",
      "Epoch 11/35\n",
      "36/36 [==============================] - 13s 366ms/step - loss: 0.0642\n",
      "Epoch 12/35\n",
      "36/36 [==============================] - 14s 379ms/step - loss: 0.0545\n",
      "Epoch 13/35\n",
      "36/36 [==============================] - 16s 450ms/step - loss: 0.0580\n",
      "Epoch 14/35\n",
      "36/36 [==============================] - 14s 379ms/step - loss: 0.0459\n",
      "Epoch 15/35\n",
      "36/36 [==============================] - 14s 384ms/step - loss: 0.0687\n",
      "Epoch 16/35\n",
      "36/36 [==============================] - 13s 362ms/step - loss: 0.0548\n",
      "Epoch 17/35\n",
      "36/36 [==============================] - 13s 371ms/step - loss: 0.0413\n",
      "Epoch 18/35\n",
      "36/36 [==============================] - 14s 376ms/step - loss: 0.0406\n",
      "Epoch 19/35\n",
      "36/36 [==============================] - 13s 373ms/step - loss: 0.0455\n",
      "Epoch 20/35\n",
      "36/36 [==============================] - 13s 366ms/step - loss: 0.0456\n",
      "Epoch 21/35\n",
      "36/36 [==============================] - 13s 358ms/step - loss: 0.0530\n",
      "Epoch 22/35\n",
      "36/36 [==============================] - 14s 397ms/step - loss: 0.0389\n",
      "Epoch 23/35\n",
      "36/36 [==============================] - 14s 385ms/step - loss: 0.0347\n",
      "Epoch 24/35\n",
      "36/36 [==============================] - 13s 373ms/step - loss: 0.0330\n",
      "Epoch 25/35\n",
      "36/36 [==============================] - 13s 368ms/step - loss: 0.0387\n",
      "Epoch 26/35\n",
      "36/36 [==============================] - 14s 379ms/step - loss: 0.0669\n",
      "Epoch 27/35\n",
      "36/36 [==============================] - 13s 367ms/step - loss: 0.0855\n",
      "Epoch 28/35\n",
      "36/36 [==============================] - 13s 368ms/step - loss: 0.0474\n",
      "Epoch 29/35\n",
      "36/36 [==============================] - 14s 377ms/step - loss: 0.0447\n",
      "Epoch 30/35\n",
      "36/36 [==============================] - 13s 373ms/step - loss: 0.0335\n",
      "Epoch 31/35\n",
      "36/36 [==============================] - 13s 369ms/step - loss: 0.0352\n",
      "Epoch 32/35\n",
      "36/36 [==============================] - 14s 403ms/step - loss: 0.0346\n",
      "Epoch 33/35\n",
      "36/36 [==============================] - 14s 400ms/step - loss: 0.0336\n",
      "Epoch 34/35\n",
      "36/36 [==============================] - 14s 397ms/step - loss: 0.0417\n",
      "Epoch 35/35\n",
      "36/36 [==============================] - 14s 402ms/step - loss: 0.0455\n"
     ]
    },
    {
     "data": {
      "text/plain": "<keras.callbacks.History at 0x7f63f87dde20>"
     },
     "execution_count": 6,
     "metadata": {},
     "output_type": "execute_result"
    }
   ],
   "source": [
    "model.fit(X_train, y_train, epochs=35)"
   ],
   "metadata": {
    "collapsed": false,
    "pycharm": {
     "name": "#%%\n"
    }
   }
  },
  {
   "cell_type": "code",
   "execution_count": 27,
   "outputs": [
    {
     "name": "stdout",
     "output_type": "stream",
     "text": [
      "36/36 [==============================] - 15s 414ms/step - loss: 0.0367\n"
     ]
    },
    {
     "data": {
      "text/plain": "<keras.callbacks.History at 0x7f63e9723a60>"
     },
     "execution_count": 27,
     "metadata": {},
     "output_type": "execute_result"
    }
   ],
   "source": [
    "model.fit(X_train, y_train, epochs=1)"
   ],
   "metadata": {
    "collapsed": false,
    "pycharm": {
     "name": "#%%\n"
    }
   }
  },
  {
   "cell_type": "code",
   "execution_count": 3,
   "outputs": [
    {
     "name": "stderr",
     "output_type": "stream",
     "text": [
      "2022-05-23 19:48:12.881086: W tensorflow/stream_executor/platform/default/dso_loader.cc:64] Could not load dynamic library 'libcuda.so.1'; dlerror: libcuda.so.1: cannot open shared object file: No such file or directory\n",
      "2022-05-23 19:48:12.881137: W tensorflow/stream_executor/cuda/cuda_driver.cc:269] failed call to cuInit: UNKNOWN ERROR (303)\n",
      "2022-05-23 19:48:12.881168: I tensorflow/stream_executor/cuda/cuda_diagnostics.cc:156] kernel driver does not appear to be running on this host (paavo-Swift-SF314-42): /proc/driver/nvidia/version does not exist\n",
      "2022-05-23 19:48:12.882640: I tensorflow/core/platform/cpu_feature_guard.cc:151] This TensorFlow binary is optimized with oneAPI Deep Neural Network Library (oneDNN) to use the following CPU instructions in performance-critical operations:  AVX2 FMA\n",
      "To enable them in other operations, rebuild TensorFlow with the appropriate compiler flags.\n"
     ]
    }
   ],
   "source": [
    "saved = load_model(\"./models/office1\")"
   ],
   "metadata": {
    "collapsed": false,
    "pycharm": {
     "name": "#%%\n"
    }
   }
  },
  {
   "cell_type": "code",
   "execution_count": null,
   "outputs": [],
   "source": [],
   "metadata": {
    "collapsed": false,
    "pycharm": {
     "name": "#%%\n"
    }
   }
  },
  {
   "cell_type": "code",
   "execution_count": 30,
   "outputs": [
    {
     "data": {
      "text/plain": "0.9802631578947368"
     },
     "execution_count": 30,
     "metadata": {},
     "output_type": "execute_result"
    }
   ],
   "source": [
    "cleaned = clean(saved.predict(X_test))\n",
    "accuracy_score(y_test, cleaned)"
   ],
   "metadata": {
    "collapsed": false,
    "pycharm": {
     "name": "#%%\n"
    }
   }
  },
  {
   "cell_type": "code",
   "execution_count": 21,
   "outputs": [
    {
     "name": "stdout",
     "output_type": "stream",
     "text": [
      "36/36 [==============================] - 15s 374ms/step - loss: 0.0519\n"
     ]
    },
    {
     "data": {
      "text/plain": "<keras.callbacks.History at 0x7fe459c1b310>"
     },
     "execution_count": 21,
     "metadata": {},
     "output_type": "execute_result"
    }
   ],
   "source": [
    "saved.fit(X_train, y_train, epochs=1)"
   ],
   "metadata": {
    "collapsed": false,
    "pycharm": {
     "name": "#%%\n"
    }
   }
  },
  {
   "cell_type": "code",
   "execution_count": 10,
   "outputs": [
    {
     "data": {
      "text/plain": "<KerasTensor: shape=(None, 200) dtype=float32 (created by layer 'gru')>"
     },
     "execution_count": 10,
     "metadata": {},
     "output_type": "execute_result"
    }
   ],
   "source": [
    "saved.layers[1].input"
   ],
   "metadata": {
    "collapsed": false,
    "pycharm": {
     "name": "#%%\n"
    }
   }
  },
  {
   "cell_type": "code",
   "execution_count": 24,
   "outputs": [
    {
     "name": "stdout",
     "output_type": "stream",
     "text": [
      "36/36 [==============================] - 14s 379ms/step - loss: 0.0455\n"
     ]
    },
    {
     "data": {
      "text/plain": "<keras.callbacks.History at 0x7fe4503f7760>"
     },
     "execution_count": 24,
     "metadata": {},
     "output_type": "execute_result"
    }
   ],
   "source": [
    "model.fit(X_train, y_train, epochs=1)"
   ],
   "metadata": {
    "collapsed": false,
    "pycharm": {
     "name": "#%%\n"
    }
   }
  },
  {
   "cell_type": "code",
   "execution_count": 30,
   "outputs": [
    {
     "data": {
      "text/plain": "0.9912280701754386"
     },
     "execution_count": 30,
     "metadata": {},
     "output_type": "execute_result"
    }
   ],
   "source": [
    "cleaned = clean(model.predict(X_test))\n",
    "accuracy_score(y_test, cleaned)"
   ],
   "metadata": {
    "collapsed": false,
    "pycharm": {
     "name": "#%%\n"
    }
   }
  },
  {
   "cell_type": "code",
   "execution_count": 18,
   "outputs": [
    {
     "name": "stderr",
     "output_type": "stream",
     "text": [
      "WARNING:absl:Found untraced functions such as gru_cell_layer_call_fn, gru_cell_layer_call_and_return_conditional_losses while saving (showing 2 of 2). These functions will not be directly callable after loading.\n"
     ]
    },
    {
     "name": "stdout",
     "output_type": "stream",
     "text": [
      "INFO:tensorflow:Assets written to: ./models/office1/assets\n"
     ]
    },
    {
     "name": "stderr",
     "output_type": "stream",
     "text": [
      "INFO:tensorflow:Assets written to: ./models/office1/assets\n",
      "WARNING:absl:<keras.layers.recurrent.GRUCell object at 0x7f64033e6040> has the same name 'GRUCell' as a built-in Keras object. Consider renaming <class 'keras.layers.recurrent.GRUCell'> to avoid naming conflicts when loading with `tf.keras.models.load_model`. If renaming is not possible, pass the object in the `custom_objects` parameter of the load function.\n"
     ]
    }
   ],
   "source": [
    "model.save(\"./models/office1\")"
   ],
   "metadata": {
    "collapsed": false,
    "pycharm": {
     "name": "#%%\n"
    }
   }
  },
  {
   "cell_type": "code",
   "execution_count": 31,
   "outputs": [
    {
     "name": "stdout",
     "output_type": "stream",
     "text": [
      "0.9802631578947368 0.9961832061068703 0.9587628865979382\n"
     ]
    }
   ],
   "source": [
    "cleaned = clean(saved.predict(X_test))\n",
    "acc, tpr, tnr = rates(y_test, cleaned, sum(cleaned), len(cleaned) - sum(cleaned))\n",
    "print(acc, tpr, tnr)"
   ],
   "metadata": {
    "collapsed": false,
    "pycharm": {
     "name": "#%%\n"
    }
   }
  },
  {
   "cell_type": "code",
   "execution_count": 7,
   "outputs": [
    {
     "name": "stdout",
     "output_type": "stream",
     "text": [
      "0.9736842105263158 0.97265625 0.975\n"
     ]
    }
   ],
   "source": [
    "cleaned = clean(saved.predict(X_test))\n",
    "acc, tpr, tnr = rates(y_test, cleaned, sum(y_test), len(cleaned) - sum(y_test))\n",
    "print(acc, tpr, tnr)"
   ],
   "metadata": {
    "collapsed": false,
    "pycharm": {
     "name": "#%%\n"
    }
   }
  }
 ],
 "metadata": {
  "kernelspec": {
   "display_name": "Python 3",
   "language": "python",
   "name": "python3"
  },
  "language_info": {
   "codemirror_mode": {
    "name": "ipython",
    "version": 2
   },
   "file_extension": ".py",
   "mimetype": "text/x-python",
   "name": "python",
   "nbconvert_exporter": "python",
   "pygments_lexer": "ipython2",
   "version": "2.7.6"
  }
 },
 "nbformat": 4,
 "nbformat_minor": 0
}