{
 "cells": [
  {
   "cell_type": "code",
   "execution_count": 1,
   "metadata": {
    "collapsed": true,
    "pycharm": {
     "name": "#%%\n"
    }
   },
   "outputs": [],
   "source": [
    "# Data processing\n",
    "# ==============================================================================\n",
    "import numpy as np\n",
    "import pandas as pd\n",
    "from sklearn.model_selection import train_test_split\n",
    "from numpy import asarray\n",
    "from pandas import read_csv\n",
    "from pandas import DataFrame\n",
    "from pandas import concat\n",
    "from sklearn.metrics import mean_absolute_error\n",
    "from xgboost import XGBRegressor\n",
    "\n",
    "import matplotlib.pyplot as plt\n",
    "plt.style.use('fivethirtyeight')\n",
    "plt.rcParams['lines.linewidth'] = 1.5\n",
    "%matplotlib inline\n",
    "import warnings\n",
    "warnings.filterwarnings('ignore')\n",
    "%config Completer.use_jedi = False"
   ]
  },
  {
   "cell_type": "code",
   "execution_count": 2,
   "outputs": [],
   "source": [
    "from sklearn.metrics import accuracy_score, confusion_matrix\n",
    "def rates(true, pre, positives, negatives):\n",
    "    tn, fp, fn, tp = confusion_matrix(true, pre).ravel()\n",
    "    return accuracy_score(true, pre), tp / positives, tn / negatives"
   ],
   "metadata": {
    "collapsed": false,
    "pycharm": {
     "name": "#%%\n"
    }
   }
  },
  {
   "cell_type": "code",
   "execution_count": 3,
   "outputs": [],
   "source": [
    "\n",
    "df = pd.read_csv('../../runs/3/home.csv')\n",
    "df = df[:2100]\n",
    "df = df[[\"RSSI\"]]\n",
    "\n",
    "window = 300\n",
    "zeros = np.zeros(window)\n",
    "ones = np.ones(window)\n",
    "y = ones\n",
    "l = len(ones) + window\n",
    "f = True\n",
    "while l <= 2100:\n",
    "    if f:\n",
    "        y = np.concatenate((y, zeros))\n",
    "        f = False\n",
    "    else:\n",
    "        y = np.concatenate((y, ones))\n",
    "        f = True\n",
    "    l += window\n",
    "num_steps = 500\n",
    "df[\"y\"] = y"
   ],
   "metadata": {
    "collapsed": false,
    "pycharm": {
     "name": "#%%\n"
    }
   }
  },
  {
   "cell_type": "code",
   "execution_count": 4,
   "outputs": [],
   "source": [
    "def lstm_data_transform(x_data, y_data, num_steps=5):\n",
    "    X, y = list(), list()\n",
    "    for i in range(x_data.shape[0]):\n",
    "        end_ix = i + num_steps\n",
    "        if end_ix >= x_data.shape[0]:\n",
    "            break\n",
    "        seq_X = x_data[i:end_ix]\n",
    "        seq_y = y_data[end_ix]\n",
    "        X.append(seq_X)\n",
    "        y.append(seq_y)\n",
    "    x_array = np.array(X)\n",
    "    y_array = np.array(y)\n",
    "    return x_array, y_array"
   ],
   "metadata": {
    "collapsed": false,
    "pycharm": {
     "name": "#%%\n"
    }
   }
  },
  {
   "cell_type": "code",
   "execution_count": 5,
   "outputs": [],
   "source": [
    "X, y = lstm_data_transform(df[\"RSSI\"].to_numpy(), y, num_steps=num_steps)\n",
    "X_train, X_test, y_train, y_test = train_test_split(X, y, test_size=0.5)"
   ],
   "metadata": {
    "collapsed": false,
    "pycharm": {
     "name": "#%%\n"
    }
   }
  },
  {
   "cell_type": "code",
   "execution_count": 6,
   "outputs": [
    {
     "name": "stdout",
     "output_type": "stream",
     "text": [
      "(0.99, 0.9934497816593887, 0.9853801169590644)\n"
     ]
    }
   ],
   "source": [
    "from sklearn.ensemble import RandomForestClassifier, AdaBoostClassifier, GradientBoostingClassifier, ExtraTreesClassifier\n",
    "from sklearn.metrics import confusion_matrix\n",
    "from sklearn.linear_model import LogisticRegression\n",
    "\n",
    "forest = LogisticRegression()\n",
    "forest.fit(X_train, y_train)\n",
    "predict = forest.predict(X_test)\n",
    "print(rates(y_test, predict, sum(y_test), len(y_test) - sum(y_test)))"
   ],
   "metadata": {
    "collapsed": false,
    "pycharm": {
     "name": "#%%\n"
    }
   }
  }
 ],
 "metadata": {
  "kernelspec": {
   "display_name": "Python 3",
   "language": "python",
   "name": "python3"
  },
  "language_info": {
   "codemirror_mode": {
    "name": "ipython",
    "version": 2
   },
   "file_extension": ".py",
   "mimetype": "text/x-python",
   "name": "python",
   "nbconvert_exporter": "python",
   "pygments_lexer": "ipython2",
   "version": "2.7.6"
  }
 },
 "nbformat": 4,
 "nbformat_minor": 0
}