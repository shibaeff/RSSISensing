{
 "cells": [
  {
   "cell_type": "code",
   "execution_count": 1,
   "metadata": {
    "collapsed": true,
    "pycharm": {
     "name": "#%%\n"
    }
   },
   "outputs": [],
   "source": [
    "import pandas as pd\n",
    "\n",
    "from code.parser.parse import Parser\n",
    "import matplotlib.pyplot as plt\n",
    "from code.wiener_kolmogorov.wiener_kolmogorov import WienerKolmogorov as WK\n",
    "from code.detector.detector import  Detector\n",
    "import numpy as np\n",
    "import datetime\n",
    "\n",
    "pre1 = Parser.read('../../runs/1/pre.txt')\n",
    "abs1 = Parser.read('../../runs/1/abs.txt')\n",
    "pre2 = Parser.read('../../runs/2/pre.txt')\n",
    "abs2 = Parser.read('../../runs/2/abs.txt')"
   ]
  },
  {
   "cell_type": "code",
   "execution_count": 2,
   "outputs": [],
   "source": [
    "pre1 = pd.concat([pre1, abs1], ignore_index=True)\n",
    "abs1 = pd.concat([abs1, abs1], ignore_index=True)\n",
    "pre2 = pd.concat([pre2, abs2], ignore_index=True)\n",
    "abs2 = pd.concat([abs2, abs2], ignore_index=True)"
   ],
   "metadata": {
    "collapsed": false,
    "pycharm": {
     "name": "#%%\n"
    }
   }
  },
  {
   "cell_type": "code",
   "execution_count": 3,
   "outputs": [],
   "source": [
    "pre1 = pd.concat([pre1, pre2], ignore_index=True)"
   ],
   "metadata": {
    "collapsed": false,
    "pycharm": {
     "name": "#%%\n"
    }
   }
  },
  {
   "cell_type": "code",
   "execution_count": 7,
   "outputs": [
    {
     "data": {
      "text/plain": "array([-29., -27., -26., -27., -26., -26., -26., -27., -27., -27., -27.,\n       -27., -32., -35., -34., -38., -28., -38., -27., -38., -38., -34.,\n       -38., -38., -38., -35., -27., -38., -38., -38., -27., -38., -38.,\n       -35., -38., -38., -38., -35., -38., -32., -38., -35., -27., -38.,\n       -38., -38., -38., -38., -35., -38., -20., -20., -19., -20., -21.,\n       -19., -21., -18., -22., -20., -20., -20., -19., -22., -19., -18.,\n       -22., -23., -18., -19., -21., -21., -20., -21., -18., -21., -22.,\n       -22., -20., -21., -24., -20., -23., -20., -20., -22., -24., -19.,\n       -20., -17., -19., -18., -20., -20., -19., -21., -22., -20., -20.,\n       -19., -20., -20., -19., -20., -21., -19., -21., -18., -22., -20.,\n       -20., -20., -19., -22., -19., -18., -22., -23., -18., -19., -21.,\n       -21., -20., -21., -18., -21., -22., -22., -20., -21., -24., -20.,\n       -23., -20., -20., -22., -24., -19., -20., -17., -19., -18., -20.,\n       -20., -19., -21., -22., -20., -20., -19., -18., -19., -21., -18.,\n       -18., -20., -20., -21., -20., -23., -18., -21., -20., -20., -23.,\n       -21., -17., -22., -21., -17., -20., -20., -20., -20., -24., -22.,\n       -20., -21., -19., -22., -16., -19., -21., -20., -17., -22., -21.,\n       -23., -19., -20., -20., -22., -21., -17., -20., -19., -17., -22.,\n       -17., -20., -20., -36., -33., -38., -43., -44., -28., -36., -32.,\n       -46., -33., -34., -37., -28., -44., -27., -38., -36., -33., -25.,\n       -36., -49., -41., -34., -40., -21., -20., -33., -27., -25., -26.,\n       -42., -28., -28., -37., -30., -45., -34.,  -8., -27., -34., -31.,\n       -17., -17., -45., -52., -36., -25., -28., -38., -24., -23., -25.,\n       -25., -26., -25., -23., -26., -23., -22., -27., -24., -25., -24.,\n       -25., -24., -23., -23., -25., -22., -27., -24., -26., -27., -23.,\n       -25., -26., -26., -25., -28., -28., -26., -24., -23., -29., -22.,\n       -28., -24., -26., -26., -22., -25., -26., -27., -25., -25., -25.,\n       -23., -23., -26., -20., -20., -20., -21., -18., -20., -20., -21.,\n       -19., -20., -18., -17., -18., -22., -22., -20., -20., -23., -23.,\n       -22., -22., -20., -21., -22., -20., -21., -22., -21., -19., -19.,\n       -20., -21., -23., -20., -21., -21., -19., -20., -22., -19., -19.,\n       -21., -19., -19., -20., -19., -25., -22., -22., -21., -20., -18.,\n       -20., -20., -18., -21., -21., -21., -22., -21., -18., -23., -19.,\n       -20., -22., -22., -19., -21., -19., -20., -19., -17., -19., -22.,\n       -21., -20., -18., -23., -21., -20., -20., -18., -19., -20., -18.,\n       -19., -22., -20., -19., -17., -21., -19., -18., -19., -17., -19.,\n       -21., -19., -18., -21.])"
     },
     "execution_count": 7,
     "metadata": {},
     "output_type": "execute_result"
    }
   ],
   "source": [
    "pre1.rssi.to_numpy()"
   ],
   "metadata": {
    "collapsed": false,
    "pycharm": {
     "name": "#%%\n"
    }
   }
  },
  {
   "cell_type": "code",
   "execution_count": 4,
   "outputs": [],
   "source": [
    "y2 = np.concatenate((np.ones(50), np.zeros(150)))"
   ],
   "metadata": {
    "collapsed": false,
    "pycharm": {
     "name": "#%%\n"
    }
   }
  },
  {
   "cell_type": "code",
   "execution_count": 5,
   "outputs": [],
   "source": [
    "y1 = np.concatenate([y2, y2])"
   ],
   "metadata": {
    "collapsed": false,
    "pycharm": {
     "name": "#%%\n"
    }
   }
  },
  {
   "cell_type": "code",
   "execution_count": 6,
   "outputs": [],
   "source": [
    "from sklearn.metrics import accuracy_score"
   ],
   "metadata": {
    "collapsed": false,
    "pycharm": {
     "name": "#%%\n"
    }
   }
  },
  {
   "cell_type": "code",
   "execution_count": 16,
   "outputs": [],
   "source": [
    "def filter_out(pres, abss):\n",
    "    filters = []\n",
    "    for abs in abss:\n",
    "        filter = WK()\n",
    "        filter.fit(abs[\"rssi\"].to_numpy())\n",
    "        filters.append(filter)\n",
    "    outs = []\n",
    "    print(filters)\n",
    "    for i, pre in enumerate(pres):\n",
    "        out = filters[i].transform(pre[\"rssi\"].to_numpy())\n",
    "        outs.append(out)\n",
    "    return outs, filters\n",
    "\n",
    "def perf_measure(y_actual, y_hat):\n",
    "    TP = 0\n",
    "    FP = 0\n",
    "    TN = 0\n",
    "    FN = 0\n",
    "\n",
    "    for i in range(len(y_hat)):\n",
    "        if y_actual[i]==y_hat[i]==1:\n",
    "           TP += 1\n",
    "        if y_hat[i]==1 and y_actual[i]!=y_hat[i]:\n",
    "           FP += 1\n",
    "        if y_actual[i]==y_hat[i]==0:\n",
    "           TN += 1\n",
    "        if y_hat[i]==0 and y_actual[i]!=y_hat[i]:\n",
    "           FN += 1\n",
    "\n",
    "    return(TP, FP, TN, FN)"
   ],
   "metadata": {
    "collapsed": false,
    "pycharm": {
     "name": "#%%\n"
    }
   }
  },
  {
   "cell_type": "code",
   "execution_count": null,
   "outputs": [],
   "source": [
    "outs, _ = filter_out([pre1], [abs1])"
   ],
   "metadata": {
    "collapsed": false,
    "pycharm": {
     "name": "#%%\n"
    }
   }
  },
  {
   "cell_type": "code",
   "execution_count": 9,
   "outputs": [],
   "source": [
    "from scipy.signal import medfilt, order_filter"
   ],
   "metadata": {
    "collapsed": false,
    "pycharm": {
     "name": "#%%\n"
    }
   }
  },
  {
   "cell_type": "code",
   "execution_count": 14,
   "outputs": [
    {
     "data": {
      "text/plain": "0     -29.0\n1     -27.0\n2     -26.0\n3     -27.0\n4     -26.0\n       ... \n195   -25.0\n196   -25.0\n197   -23.0\n198   -23.0\n199   -26.0\nName: rssi, Length: 200, dtype: float64"
     },
     "execution_count": 14,
     "metadata": {},
     "output_type": "execute_result"
    }
   ],
   "source": [
    "pre1.rssi"
   ],
   "metadata": {
    "collapsed": false,
    "pycharm": {
     "name": "#%%\n"
    }
   }
  },
  {
   "cell_type": "code",
   "execution_count": 23,
   "outputs": [
    {
     "name": "stdout",
     "output_type": "stream",
     "text": [
      "0.98\n",
      "[150   0   4  46]\n",
      "0.98\n",
      "[150   0   4  46]\n",
      "0.98\n",
      "[150   0   4  46]\n",
      "0.98\n",
      "[150   0   4  46]\n"
     ]
    }
   ],
   "source": [
    "from sklearn.ensemble import RandomForestClassifier, AdaBoostClassifier, GradientBoostingClassifier, ExtraTreesClassifier\n",
    "from sklearn.metrics import confusion_matrix\n",
    "\n",
    "for model in [RandomForestClassifier, AdaBoostClassifier, GradientBoostingClassifier, ExtraTreesClassifier]:\n",
    "    forest = model()\n",
    "    forest.fit(pre1.rssi.to_numpy()[:,np.newaxis], y1)\n",
    "    predict = forest.predict(pre2.rssi.to_numpy()[:,np.newaxis])\n",
    "    filtered = medfilt(predict, kernel_size=13)\n",
    "    print(accuracy_score(y2, filtered))\n",
    "    print(confusion_matrix(y2, filtered, labels=[0, 1]).ravel())"
   ],
   "metadata": {
    "collapsed": false,
    "pycharm": {
     "name": "#%%\n"
    }
   }
  },
  {
   "cell_type": "code",
   "execution_count": null,
   "outputs": [],
   "source": [
    "# axs.append(fig.add_subplot(n, 1, k))\n",
    "#         axs[k - 1].plot(pre.rssi.to_numpy(), label=legend[0], linestyle=\"solid\")\n",
    "#         axs[k-1].set_xticks(ticks)\n",
    "#         axs[k-1].set_xlabel(\"Время, с\")\n",
    "#         axs[k-1].set_ylabel(\"RSSI, dBm\")\n",
    "#         axs[k - 1].plot(out, label=legend[1], linestyle=\"dashed\")\n",
    "#         # axs[k - 1].legend()\n",
    "#         axs[k - 1].set(title=titles[k-1])\n",
    "plt.rcParams.update({'font.size': 25})\n",
    "plt.figure(figsize=(20, 6))\n",
    "plt.plot(pre1.rssi.to_numpy(), label=\"RSSI до обработки\", linestyle=\":\", marker=\".\")\n",
    "plt.plot(outs[0], label=\"RSSI после обработки\", linestyle=\"--\", marker=\"s\")\n",
    "plt.title(\"Замеры RSSI в жилой комнате\")\n",
    "plt.legend(loc=\"lower right\")\n",
    "plt.savefig(\"shibaev_1.png\")"
   ],
   "metadata": {
    "collapsed": false,
    "pycharm": {
     "name": "#%%\n"
    }
   }
  },
  {
   "cell_type": "code",
   "execution_count": null,
   "outputs": [],
   "source": [
    "plt.rcParams.update({'font.size': 25})\n",
    "plt.figure(figsize=(20, 6))\n",
    "plt.plot(pre1.rssi.to_numpy(), label=\"RSSI до обработки\", linestyle=\":\", marker=\".\")\n",
    "plt.plot(outs[0], label=\"RSSI после обработки\", linestyle=\"--\", marker=\"s\")\n",
    "plt.title(\"Замеры RSSI в офисе\")\n",
    "plt.legend(loc=\"lower right\")\n",
    "plt.savefig(\"shibaev_2.png\")"
   ],
   "metadata": {
    "collapsed": false,
    "pycharm": {
     "name": "#%%\n"
    }
   }
  }
 ],
 "metadata": {
  "kernelspec": {
   "display_name": "Python 3",
   "language": "python",
   "name": "python3"
  },
  "language_info": {
   "codemirror_mode": {
    "name": "ipython",
    "version": 2
   },
   "file_extension": ".py",
   "mimetype": "text/x-python",
   "name": "python",
   "nbconvert_exporter": "python",
   "pygments_lexer": "ipython2",
   "version": "2.7.6"
  }
 },
 "nbformat": 4,
 "nbformat_minor": 0
}