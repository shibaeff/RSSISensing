{
 "cells": [
  {
   "cell_type": "code",
   "execution_count": 18,
   "metadata": {
    "pycharm": {
     "name": "#%%\n"
    }
   },
   "outputs": [],
   "source": [
    "# Data processing\n",
    "# ==============================================================================\n",
    "import numpy as np\n",
    "import pandas as pd\n",
    "from sklearn.model_selection import train_test_split\n",
    "from numpy import asarray\n",
    "from pandas import read_csv\n",
    "from pandas import DataFrame\n",
    "from pandas import concat\n",
    "from sklearn.metrics import mean_absolute_error\n",
    "from xgboost import XGBRegressor\n",
    "\n",
    "import matplotlib.pyplot as plt\n",
    "plt.style.use('fivethirtyeight')\n",
    "plt.rcParams['lines.linewidth'] = 1.5\n",
    "%matplotlib inline\n",
    "import warnings\n",
    "warnings.filterwarnings('ignore')\n",
    "%config Completer.use_jedi = False"
   ]
  },
  {
   "cell_type": "code",
   "execution_count": 19,
   "metadata": {
    "pycharm": {
     "name": "#%%\n"
    }
   },
   "outputs": [],
   "source": [
    "from sklearn.metrics import accuracy_score, confusion_matrix\n",
    "def rates(true, pre, positives, negatives):\n",
    "    tn, fp, fn, tp = confusion_matrix(true, pre).ravel()\n",
    "    return accuracy_score(true, pre), tp / positives, tn / negatives"
   ]
  },
  {
   "cell_type": "code",
   "execution_count": 20,
   "outputs": [],
   "source": [
    "\n",
    "df = pd.read_csv('../runs/3/office.csv')\n",
    "df = df[:2100]\n",
    "df = df[[\"RSSI\"]]\n",
    "\n",
    "window = 300\n",
    "zeros = np.zeros(window)\n",
    "ones = np.ones(window)\n",
    "y = ones\n",
    "l = len(ones) + window\n",
    "f = True\n",
    "while l <= 2100:\n",
    "    if f:\n",
    "        y = np.concatenate((y, zeros))\n",
    "        f = False\n",
    "    else:\n",
    "        y = np.concatenate((y, ones))\n",
    "        f = True\n",
    "    l += window\n",
    "num_steps = 500\n",
    "df[\"y\"] = y"
   ],
   "metadata": {
    "collapsed": false,
    "pycharm": {
     "name": "#%%\n"
    }
   }
  },
  {
   "cell_type": "code",
   "execution_count": 21,
   "outputs": [],
   "source": [
    "def lstm_data_transform(x_data, y_data, num_steps=5):\n",
    "    X, y = list(), list()\n",
    "    for i in range(x_data.shape[0]):\n",
    "        end_ix = i + num_steps\n",
    "        if end_ix >= x_data.shape[0]:\n",
    "            break\n",
    "        seq_X = x_data[i:end_ix]\n",
    "        seq_y = y_data[end_ix]\n",
    "        X.append(seq_X)\n",
    "        y.append(seq_y)\n",
    "    x_array = np.array(X)\n",
    "    y_array = np.array(y)\n",
    "    return x_array, y_array"
   ],
   "metadata": {
    "collapsed": false,
    "pycharm": {
     "name": "#%%\n"
    }
   }
  },
  {
   "cell_type": "code",
   "execution_count": 22,
   "outputs": [],
   "source": [
    "X, y = lstm_data_transform(df[\"RSSI\"].to_numpy(), y, num_steps=num_steps)\n",
    "X_train, X_test, y_train, y_test = train_test_split(X, y, test_size=0.5)"
   ],
   "metadata": {
    "collapsed": false,
    "pycharm": {
     "name": "#%%\n"
    }
   }
  },
  {
   "cell_type": "code",
   "execution_count": 23,
   "outputs": [
    {
     "name": "stdout",
     "output_type": "stream",
     "text": [
      "(0.97125, 0.9718969555035128, 0.9705093833780161)\n",
      "(0.9875, 0.9836065573770492, 0.9919571045576407)\n",
      "(0.96125, 0.9765807962529274, 0.9436997319034852)\n"
     ]
    }
   ],
   "source": [
    "from sklearn.ensemble import RandomForestClassifier, AdaBoostClassifier, GradientBoostingClassifier, ExtraTreesClassifier\n",
    "from sklearn.metrics import confusion_matrix\n",
    "\n",
    "models = []\n",
    "for model in [ GradientBoostingClassifier, RandomForestClassifier, AdaBoostClassifier]:\n",
    "    forest = model()\n",
    "    forest.fit(X_train, y_train)\n",
    "    predict = forest.predict(X_test)\n",
    "    models.append(forest)\n",
    "    print(rates(y_test, predict, sum(y_test), len(y_test) - sum(y_test)))"
   ],
   "metadata": {
    "collapsed": false,
    "pycharm": {
     "name": "#%%\n"
    }
   }
  },
  {
   "cell_type": "code",
   "execution_count": 24,
   "outputs": [],
   "source": [
    "\n",
    "df = pd.read_csv('../runs/3/home.csv')\n",
    "df = df[:2100]\n",
    "df = df[[\"RSSI\"]]\n",
    "\n",
    "window = 300\n",
    "zeros = np.zeros(window)\n",
    "ones = np.ones(window)\n",
    "y = ones\n",
    "l = len(ones) + window\n",
    "f = True\n",
    "while l <= 2100:\n",
    "    if f:\n",
    "        y = np.concatenate((y, zeros))\n",
    "        f = False\n",
    "    else:\n",
    "        y = np.concatenate((y, ones))\n",
    "        f = True\n",
    "    l += window\n",
    "num_steps = 500\n",
    "df[\"y\"] = y"
   ],
   "metadata": {
    "collapsed": false,
    "pycharm": {
     "name": "#%%\n"
    }
   }
  },
  {
   "cell_type": "code",
   "execution_count": 25,
   "outputs": [],
   "source": [
    "X, y = lstm_data_transform(df[\"RSSI\"].to_numpy(), y, num_steps=num_steps)\n",
    "X_train, X_test, y_train, y_test = train_test_split(X, y, test_size=0.5)"
   ],
   "metadata": {
    "collapsed": false,
    "pycharm": {
     "name": "#%%\n"
    }
   }
  },
  {
   "cell_type": "code",
   "execution_count": 26,
   "outputs": [
    {
     "name": "stdout",
     "output_type": "stream",
     "text": [
      "(0.83625, 0.9733333333333334, 0.66)\n",
      "(0.75875, 0.9822222222222222, 0.4714285714285714)\n",
      "(0.71625, 1.0, 0.3514285714285714)\n"
     ]
    }
   ],
   "source": [
    "for model in models:\n",
    "    predict = model.predict(X_test)\n",
    "    print(rates(y_test, predict, sum(y_test), len(y_test) - sum(y_test)))"
   ],
   "metadata": {
    "collapsed": false,
    "pycharm": {
     "name": "#%%\n"
    }
   }
  },
  {
   "cell_type": "code",
   "execution_count": 27,
   "metadata": {
    "pycharm": {
     "name": "#%%\n"
    }
   },
   "outputs": [],
   "source": [
    "\n",
    "df = pd.read_csv('../runs/3/home.csv')\n",
    "df = df[:2100]\n",
    "df = df[[\"RSSI\"]]\n",
    "\n",
    "window = 300\n",
    "zeros = np.zeros(window)\n",
    "ones = np.ones(window)\n",
    "y = ones\n",
    "l = len(ones) + window\n",
    "f = True\n",
    "while l <= 2100:\n",
    "    if f:\n",
    "        y = np.concatenate((y, zeros))\n",
    "        f = False\n",
    "    else:\n",
    "        y = np.concatenate((y, ones))\n",
    "        f = True\n",
    "    l += window\n",
    "num_steps = 500\n",
    "df[\"y\"] = y"
   ]
  },
  {
   "cell_type": "code",
   "execution_count": 28,
   "metadata": {
    "pycharm": {
     "name": "#%%\n"
    }
   },
   "outputs": [],
   "source": [
    "X, y = lstm_data_transform(df[\"RSSI\"].to_numpy(), y, num_steps=num_steps)\n",
    "X_train, X_test, y_train, y_test = train_test_split(X, y, test_size=0.5)"
   ]
  },
  {
   "cell_type": "code",
   "execution_count": 29,
   "metadata": {
    "pycharm": {
     "name": "#%%\n"
    }
   },
   "outputs": [
    {
     "name": "stdout",
     "output_type": "stream",
     "text": [
      "(0.8225, 0.9752808988764045, 0.6309859154929578)\n",
      "(0.74375, 0.9775280898876404, 0.4507042253521127)\n",
      "(0.72, 1.0, 0.36901408450704226)\n"
     ]
    }
   ],
   "source": [
    "for model in models:\n",
    "    predict = model.predict(X_test)\n",
    "    print(rates(y_test, predict, sum(y_test), len(y_test) - sum(y_test)))"
   ]
  }
 ],
 "metadata": {
  "kernelspec": {
   "display_name": "Python 3 (ipykernel)",
   "language": "python",
   "name": "python3"
  },
  "language_info": {
   "codemirror_mode": {
    "name": "ipython",
    "version": 3
   },
   "file_extension": ".py",
   "mimetype": "text/x-python",
   "name": "python",
   "nbconvert_exporter": "python",
   "pygments_lexer": "ipython3",
   "version": "3.8.10"
  }
 },
 "nbformat": 4,
 "nbformat_minor": 1
}