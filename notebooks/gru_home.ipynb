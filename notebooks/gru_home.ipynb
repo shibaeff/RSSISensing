{
 "cells": [
  {
   "cell_type": "code",
   "execution_count": 6,
   "metadata": {
    "collapsed": true,
    "pycharm": {
     "name": "#%%\n"
    }
   },
   "outputs": [],
   "source": [
    "import pandas as pd\n",
    "from code.gru.gru import gru\n",
    "from code.parser.parse import Parser\n",
    "from code.gru.gru import GRUModel\n",
    "import matplotlib.pyplot as plt\n",
    "from sklearn.metrics import accuracy_score, confusion_matrix\n",
    "from code.wiener_kolmogorov.wiener_kolmogorov import WienerKolmogorov as WK\n",
    "from code.detector.detector import  Detector\n",
    "import numpy as np\n",
    "from tensorflow import keras\n",
    "from keras.utils.vis_utils import plot_model\n",
    "from sklearn.model_selection import train_test_split\n",
    "from keras.models import load_model"
   ]
  },
  {
   "cell_type": "code",
   "execution_count": 3,
   "outputs": [
    {
     "name": "stdout",
     "output_type": "stream",
     "text": [
      "Defaulting to user installation because normal site-packages is not writeable\r\n",
      "Collecting visualkeras\r\n",
      "  Downloading visualkeras-0.0.2-py3-none-any.whl (12 kB)\r\n",
      "Requirement already satisfied: pillow>=6.2.0 in /usr/lib/python3/dist-packages (from visualkeras) (7.0.0)\r\n",
      "Requirement already satisfied: numpy>=1.18.1 in /home/paavo/.local/lib/python3.8/site-packages (from visualkeras) (1.22.2)\r\n",
      "Collecting aggdraw>=1.3.11\r\n",
      "  Downloading aggdraw-1.3.14-cp38-cp38-manylinux_2_17_x86_64.manylinux2014_x86_64.whl (994 kB)\r\n",
      "\u001B[2K     \u001B[90m━━━━━━━━━━━━━━━━━━━━━━━━━━━━━━━━━━━━━━━\u001B[0m \u001B[32m994.6/994.6 KB\u001B[0m \u001B[31m5.5 MB/s\u001B[0m eta \u001B[36m0:00:00\u001B[0ma \u001B[36m0:00:01\u001B[0m\r\n",
      "\u001B[?25hInstalling collected packages: aggdraw, visualkeras\r\n",
      "Successfully installed aggdraw-1.3.14 visualkeras-0.0.2\r\n",
      "\u001B[33mWARNING: You are using pip version 22.0.3; however, version 22.0.4 is available.\r\n",
      "You should consider upgrading via the '/usr/bin/python3 -m pip install --upgrade pip' command.\u001B[0m\u001B[33m\r\n",
      "\u001B[0m"
     ]
    }
   ],
   "source": [
    "!pip install visualkeras"
   ],
   "metadata": {
    "collapsed": false,
    "pycharm": {
     "name": "#%%\n"
    }
   }
  },
  {
   "cell_type": "code",
   "execution_count": 7,
   "outputs": [],
   "source": [
    "def rates(true, pre, positives, negatives):\n",
    "    tn, fp, fn, tp = confusion_matrix(true, pre).ravel()\n",
    "    return accuracy_score(true, pre), tp / positives, tn / negatives"
   ],
   "metadata": {
    "collapsed": false,
    "pycharm": {
     "name": "#%%\n"
    }
   }
  },
  {
   "cell_type": "code",
   "execution_count": 8,
   "outputs": [],
   "source": [
    "def lstm_data_transform(x_data, y_data, num_steps=5):\n",
    "    X, y = list(), list()\n",
    "    for i in range(x_data.shape[0]):\n",
    "        end_ix = i + num_steps\n",
    "        if end_ix >= x_data.shape[0]:\n",
    "            break\n",
    "        seq_X = x_data[i:end_ix]\n",
    "        seq_y = y_data[end_ix]\n",
    "        X.append(seq_X)\n",
    "        y.append(seq_y)\n",
    "    x_array = np.array(X)\n",
    "    y_array = np.array(y)\n",
    "    return x_array, y_array"
   ],
   "metadata": {
    "collapsed": false,
    "pycharm": {
     "name": "#%%\n"
    }
   }
  },
  {
   "cell_type": "code",
   "execution_count": 9,
   "outputs": [],
   "source": [
    "def clean(preds):\n",
    "    res= []\n",
    "    for pred in preds:\n",
    "        d0 = abs(pred - 0)\n",
    "        d1 = abs(pred - 1)\n",
    "        if d0 < d1:\n",
    "            res.append(0)\n",
    "        else:\n",
    "            res.append(1)\n",
    "    return res"
   ],
   "metadata": {
    "collapsed": false,
    "pycharm": {
     "name": "#%%\n"
    }
   }
  },
  {
   "cell_type": "code",
   "execution_count": 10,
   "outputs": [],
   "source": [
    "\n",
    "df = pd.read_csv('../../runs/3/home.csv')\n",
    "df = df[:2100]\n",
    "df = df[[\"RSSI\"]]\n",
    "\n",
    "window = 300\n",
    "zeros = np.zeros(window)\n",
    "ones = np.ones(window)\n",
    "y = ones\n",
    "l = len(ones) + window\n",
    "f = True\n",
    "while l <= 2100:\n",
    "    if f:\n",
    "        y = np.concatenate((y, zeros))\n",
    "        f = False\n",
    "    else:\n",
    "        y = np.concatenate((y, ones))\n",
    "        f = True\n",
    "    l += window\n",
    "num_steps = 500\n",
    "\n",
    "\n",
    "X, y = lstm_data_transform(df[\"RSSI\"].to_numpy(), y, num_steps=num_steps)\n",
    "X_train, X_test, y_train, y_test = train_test_split(X, y, test_size=0.285)\n",
    "\n",
    "from keras.models import Sequential\n",
    "from keras.layers import Dense, Dropout\n",
    "from keras.layers import LSTM, GRU, SimpleRNN, Activation\n",
    "from keras.layers import Dropout\n",
    "from keras.regularizers import l2\n",
    "import numpy as np\n",
    "from keras import optimizers\n",
    "\n",
    "model = Sequential()\n",
    "model.add(GRU(200, activation='tanh', input_shape=(num_steps, 1),\n",
    "               return_sequences=False))\n",
    "model.add(Dense(units=50, activation='relu'))\n",
    "model.add(Dense(units=1, activation='linear'))\n",
    "model.compile(optimizer=\"adam\", loss='mse')"
   ],
   "metadata": {
    "collapsed": false,
    "pycharm": {
     "name": "#%%\n"
    }
   }
  },
  {
   "cell_type": "code",
   "execution_count": 16,
   "outputs": [],
   "source": [
    "model.save(\"local.h5\")"
   ],
   "metadata": {
    "collapsed": false,
    "pycharm": {
     "name": "#%%\n"
    }
   }
  },
  {
   "cell_type": "code",
   "execution_count": 12,
   "outputs": [
    {
     "name": "stdout",
     "output_type": "stream",
     "text": [
      "Epoch 1/35\n",
      "36/36 [==============================] - 15s 386ms/step - loss: 0.8789\n",
      "Epoch 2/35\n",
      "36/36 [==============================] - 14s 390ms/step - loss: 0.1745\n",
      "Epoch 3/35\n",
      "36/36 [==============================] - 14s 376ms/step - loss: 0.1551\n",
      "Epoch 4/35\n",
      "36/36 [==============================] - 14s 376ms/step - loss: 0.1354\n",
      "Epoch 5/35\n",
      "36/36 [==============================] - 14s 375ms/step - loss: 0.1271\n",
      "Epoch 6/35\n",
      "36/36 [==============================] - 14s 377ms/step - loss: 0.1331\n",
      "Epoch 7/35\n",
      "36/36 [==============================] - 14s 377ms/step - loss: 0.1233\n",
      "Epoch 8/35\n",
      "36/36 [==============================] - 14s 378ms/step - loss: 0.1124\n",
      "Epoch 9/35\n",
      "36/36 [==============================] - 14s 388ms/step - loss: 0.1102\n",
      "Epoch 10/35\n",
      "36/36 [==============================] - 15s 410ms/step - loss: 0.1059\n",
      "Epoch 11/35\n",
      "36/36 [==============================] - 14s 385ms/step - loss: 0.0944\n",
      "Epoch 12/35\n",
      "36/36 [==============================] - 14s 382ms/step - loss: 0.0815\n",
      "Epoch 13/35\n",
      "36/36 [==============================] - 14s 400ms/step - loss: 0.0730\n",
      "Epoch 14/35\n",
      "36/36 [==============================] - 14s 376ms/step - loss: 0.0561\n",
      "Epoch 15/35\n",
      "36/36 [==============================] - 15s 408ms/step - loss: 0.0576\n",
      "Epoch 16/35\n",
      "36/36 [==============================] - 14s 394ms/step - loss: 0.0426\n",
      "Epoch 17/35\n",
      "36/36 [==============================] - 14s 397ms/step - loss: 0.0396\n",
      "Epoch 18/35\n",
      "36/36 [==============================] - 14s 399ms/step - loss: 0.0414\n",
      "Epoch 19/35\n",
      "36/36 [==============================] - 15s 412ms/step - loss: 0.0333\n",
      "Epoch 20/35\n",
      "36/36 [==============================] - 14s 379ms/step - loss: 0.1410\n",
      "Epoch 21/35\n",
      "36/36 [==============================] - 14s 378ms/step - loss: 0.0857\n",
      "Epoch 22/35\n",
      "36/36 [==============================] - 14s 382ms/step - loss: 0.0581\n",
      "Epoch 23/35\n",
      "36/36 [==============================] - 14s 382ms/step - loss: 0.0319\n",
      "Epoch 24/35\n",
      "36/36 [==============================] - 14s 380ms/step - loss: 0.0276\n",
      "Epoch 25/35\n",
      "36/36 [==============================] - 14s 376ms/step - loss: 0.0210\n",
      "Epoch 26/35\n",
      "36/36 [==============================] - 14s 377ms/step - loss: 0.0138\n",
      "Epoch 27/35\n",
      "36/36 [==============================] - 14s 375ms/step - loss: 0.0214\n",
      "Epoch 28/35\n",
      "36/36 [==============================] - 14s 375ms/step - loss: 0.0179\n",
      "Epoch 29/35\n",
      "36/36 [==============================] - 14s 375ms/step - loss: 0.0132\n",
      "Epoch 30/35\n",
      "36/36 [==============================] - 13s 375ms/step - loss: 0.0174\n",
      "Epoch 31/35\n",
      "36/36 [==============================] - 13s 375ms/step - loss: 0.0738\n",
      "Epoch 32/35\n",
      "36/36 [==============================] - 14s 377ms/step - loss: 0.0545\n",
      "Epoch 33/35\n",
      "36/36 [==============================] - 14s 376ms/step - loss: 0.0410\n",
      "Epoch 34/35\n",
      "36/36 [==============================] - 14s 375ms/step - loss: 0.0329\n",
      "Epoch 35/35\n",
      "36/36 [==============================] - 14s 375ms/step - loss: 0.0365\n"
     ]
    },
    {
     "data": {
      "text/plain": "<keras.callbacks.History at 0x7fe42c3b7dc0>"
     },
     "execution_count": 12,
     "metadata": {},
     "output_type": "execute_result"
    }
   ],
   "source": [
    "model.fit(X_train, y_train, epochs=35)"
   ],
   "metadata": {
    "collapsed": false,
    "pycharm": {
     "name": "#%%\n"
    }
   }
  },
  {
   "cell_type": "code",
   "execution_count": 17,
   "outputs": [
    {
     "name": "stdout",
     "output_type": "stream",
     "text": [
      "36/36 [==============================] - 13s 374ms/step - loss: 0.0572\n"
     ]
    },
    {
     "data": {
      "text/plain": "<keras.callbacks.History at 0x7fe459cec0d0>"
     },
     "execution_count": 17,
     "metadata": {},
     "output_type": "execute_result"
    }
   ],
   "source": [
    "model.fit(X_train, y_train, epochs=1)"
   ],
   "metadata": {
    "collapsed": false,
    "pycharm": {
     "name": "#%%\n"
    }
   }
  },
  {
   "cell_type": "code",
   "execution_count": 3,
   "outputs": [],
   "source": [
    "saved = load_model(\"./models/home2\")"
   ],
   "metadata": {
    "collapsed": false,
    "pycharm": {
     "name": "#%%\n"
    }
   }
  },
  {
   "cell_type": "code",
   "execution_count": 18,
   "outputs": [
    {
     "data": {
      "text/plain": "0.918859649122807"
     },
     "execution_count": 18,
     "metadata": {},
     "output_type": "execute_result"
    }
   ],
   "source": [
    "cleaned = clean(model.predict(X_test))\n",
    "accuracy_score(y_test, cleaned)"
   ],
   "metadata": {
    "collapsed": false,
    "pycharm": {
     "name": "#%%\n"
    }
   }
  },
  {
   "cell_type": "code",
   "execution_count": 21,
   "outputs": [
    {
     "name": "stdout",
     "output_type": "stream",
     "text": [
      "36/36 [==============================] - 15s 374ms/step - loss: 0.0519\n"
     ]
    },
    {
     "data": {
      "text/plain": "<keras.callbacks.History at 0x7fe459c1b310>"
     },
     "execution_count": 21,
     "metadata": {},
     "output_type": "execute_result"
    }
   ],
   "source": [
    "saved.fit(X_train, y_train, epochs=1)"
   ],
   "metadata": {
    "collapsed": false,
    "pycharm": {
     "name": "#%%\n"
    }
   }
  },
  {
   "cell_type": "code",
   "execution_count": 24,
   "outputs": [
    {
     "name": "stdout",
     "output_type": "stream",
     "text": [
      "36/36 [==============================] - 14s 379ms/step - loss: 0.0455\n"
     ]
    },
    {
     "data": {
      "text/plain": "<keras.callbacks.History at 0x7fe4503f7760>"
     },
     "execution_count": 24,
     "metadata": {},
     "output_type": "execute_result"
    }
   ],
   "source": [
    "model.fit(X_train, y_train, epochs=1)"
   ],
   "metadata": {
    "collapsed": false,
    "pycharm": {
     "name": "#%%\n"
    }
   }
  },
  {
   "cell_type": "code",
   "execution_count": 30,
   "outputs": [
    {
     "data": {
      "text/plain": "0.9912280701754386"
     },
     "execution_count": 30,
     "metadata": {},
     "output_type": "execute_result"
    }
   ],
   "source": [
    "cleaned = clean(model.predict(X_test))\n",
    "accuracy_score(y_test, cleaned)"
   ],
   "metadata": {
    "collapsed": false,
    "pycharm": {
     "name": "#%%\n"
    }
   }
  },
  {
   "cell_type": "code",
   "execution_count": 26,
   "outputs": [
    {
     "name": "stderr",
     "output_type": "stream",
     "text": [
      "WARNING:absl:Found untraced functions such as gru_cell_1_layer_call_fn, gru_cell_1_layer_call_and_return_conditional_losses while saving (showing 2 of 2). These functions will not be directly callable after loading.\n"
     ]
    },
    {
     "name": "stdout",
     "output_type": "stream",
     "text": [
      "INFO:tensorflow:Assets written to: ./models/home2/assets\n"
     ]
    },
    {
     "name": "stderr",
     "output_type": "stream",
     "text": [
      "INFO:tensorflow:Assets written to: ./models/home2/assets\n",
      "WARNING:absl:<keras.layers.recurrent.GRUCell object at 0x7fe42c36b5b0> has the same name 'GRUCell' as a built-in Keras object. Consider renaming <class 'keras.layers.recurrent.GRUCell'> to avoid naming conflicts when loading with `tf.keras.models.load_model`. If renaming is not possible, pass the object in the `custom_objects` parameter of the load function.\n"
     ]
    }
   ],
   "source": [
    "model.save(\"./models/home2\")"
   ],
   "metadata": {
    "collapsed": false,
    "pycharm": {
     "name": "#%%\n"
    }
   }
  },
  {
   "cell_type": "code",
   "execution_count": 14,
   "outputs": [
    {
     "name": "stdout",
     "output_type": "stream",
     "text": [
      "0.9802631578947368 0.9703703703703703 0.9946236559139785\n"
     ]
    }
   ],
   "source": [
    "cleaned = clean(saved.predict(X_test))\n",
    "acc, tpr, tnr = rates(y_test, cleaned, sum(y_test), len(cleaned) - sum(y_test))\n",
    "print(acc, tpr, tnr)"
   ],
   "metadata": {
    "collapsed": false,
    "pycharm": {
     "name": "#%%\n"
    }
   }
  }
 ],
 "metadata": {
  "kernelspec": {
   "display_name": "Python 3",
   "language": "python",
   "name": "python3"
  },
  "language_info": {
   "codemirror_mode": {
    "name": "ipython",
    "version": 2
   },
   "file_extension": ".py",
   "mimetype": "text/x-python",
   "name": "python",
   "nbconvert_exporter": "python",
   "pygments_lexer": "ipython2",
   "version": "2.7.6"
  }
 },
 "nbformat": 4,
 "nbformat_minor": 0
}