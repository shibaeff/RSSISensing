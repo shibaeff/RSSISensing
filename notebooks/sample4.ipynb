{
 "cells": [
  {
   "cell_type": "code",
   "execution_count": 1,
   "metadata": {
    "collapsed": true,
    "pycharm": {
     "name": "#%%\n"
    }
   },
   "outputs": [],
   "source": [
    "import pandas as pd\n",
    "from code.gru.gru import gru\n",
    "from code.parser.parse import Parser\n",
    "from code.gru.gru import GRUModel\n",
    "import matplotlib.pyplot as plt\n",
    "from sklearn.metrics import accuracy_score\n",
    "from code.wiener_kolmogorov.wiener_kolmogorov import WienerKolmogorov as WK\n",
    "from code.detector.detector import  Detector\n",
    "import numpy as np\n",
    "from tensorflow import keras\n",
    "from keras.utils.vis_utils import plot_model\n",
    "from sklearn.model_selection import train_test_split"
   ]
  },
  {
   "cell_type": "code",
   "execution_count": 2,
   "outputs": [],
   "source": [
    "df = pd.read_csv('../../runs/3/office.csv')\n",
    "df = df[:2100]\n",
    "df = df[[\"RSSI\"]]\n",
    "\n",
    "window = 300\n",
    "zeros = np.zeros(window)\n",
    "ones = np.ones(window)\n",
    "y = ones\n",
    "l = len(ones) + window\n",
    "f = True\n",
    "while l <= 2100:\n",
    "    if f:\n",
    "        y = np.concatenate((y, zeros))\n",
    "        f = False\n",
    "    else:\n",
    "        y = np.concatenate((y, ones))\n",
    "        f = True\n",
    "    l += window\n",
    "\n"
   ],
   "metadata": {
    "collapsed": false,
    "pycharm": {
     "name": "#%%\n"
    }
   }
  },
  {
   "cell_type": "code",
   "execution_count": 3,
   "outputs": [],
   "source": [
    "def lstm_data_transform(x_data, y_data, num_steps=5):\n",
    "    \"\"\" Changes data to the format for LSTM training\n",
    "for sliding window approach \"\"\"\n",
    "    # Prepare the list for the transformed data\n",
    "    X, y = list(), list()\n",
    "    # Loop of the entire data set\n",
    "    for i in range(x_data.shape[0]):\n",
    "        # compute a new (sliding window) index\n",
    "        end_ix = i + num_steps\n",
    "        # if index is larger than the size of the dataset, we stop\n",
    "        if end_ix >= x_data.shape[0]:\n",
    "            break\n",
    "        # Get a sequence of data for x\n",
    "        seq_X = x_data[i:end_ix]\n",
    "        # Get only the last element of the sequency for y\n",
    "        seq_y = y_data[end_ix]\n",
    "        # Append the list with sequencies\n",
    "        X.append(seq_X)\n",
    "        y.append(seq_y)\n",
    "    # Make final arrays\n",
    "    x_array = np.array(X)\n",
    "    y_array = np.array(y)\n",
    "    return x_array, y_array"
   ],
   "metadata": {
    "collapsed": false,
    "pycharm": {
     "name": "#%%\n"
    }
   }
  },
  {
   "cell_type": "code",
   "execution_count": 4,
   "outputs": [
    {
     "name": "stdout",
     "output_type": "stream",
     "text": [
      "The new shape of x is (1600, 500)\n"
     ]
    }
   ],
   "source": [
    "num_steps = 500\n",
    "X, y = lstm_data_transform(df[\"RSSI\"].to_numpy(), y, num_steps=num_steps)\n",
    "X_train, X_test, y_train, y_test = train_test_split(X, y, test_size=0.285)\n",
    "print (\"The new shape of x is\", X.shape)"
   ],
   "metadata": {
    "collapsed": false,
    "pycharm": {
     "name": "#%%\n"
    }
   }
  },
  {
   "cell_type": "code",
   "execution_count": 5,
   "outputs": [],
   "source": [
    "from keras.models import Sequential\n",
    "from keras.layers import Dense, Dropout\n",
    "from keras.layers import LSTM, GRU, SimpleRNN, Activation\n",
    "from keras.layers import Dropout\n",
    "from keras.regularizers import l2\n",
    "import numpy as np\n",
    "from keras import optimizers\n",
    "\n",
    "model = Sequential()\n",
    "model.add(GRU(200, activation='tanh', input_shape=(num_steps, 1),\n",
    "               return_sequences=False))\n",
    "model.add(Dense(units=50, activation='relu'))\n",
    "model.add(Dense(units=1, activation='linear'))\n",
    "model.compile(optimizer=\"adam\", loss='mse')\n"
   ],
   "metadata": {
    "collapsed": false,
    "pycharm": {
     "name": "#%%\n"
    }
   }
  },
  {
   "cell_type": "code",
   "execution_count": 6,
   "outputs": [
    {
     "name": "stdout",
     "output_type": "stream",
     "text": [
      "Epoch 1/10\n",
      "36/36 [==============================] - 14s 366ms/step - loss: 0.3602\n",
      "Epoch 2/10\n",
      "36/36 [==============================] - 13s 370ms/step - loss: 0.1982\n",
      "Epoch 3/10\n",
      "36/36 [==============================] - 13s 368ms/step - loss: 0.1478\n",
      "Epoch 4/10\n",
      "36/36 [==============================] - 13s 368ms/step - loss: 0.1211\n",
      "Epoch 5/10\n",
      "36/36 [==============================] - 13s 370ms/step - loss: 0.1077\n",
      "Epoch 6/10\n",
      "36/36 [==============================] - 13s 368ms/step - loss: 0.0969\n",
      "Epoch 7/10\n",
      "36/36 [==============================] - 13s 368ms/step - loss: 0.1004\n",
      "Epoch 8/10\n",
      "36/36 [==============================] - 13s 367ms/step - loss: 0.1008\n",
      "Epoch 9/10\n",
      "36/36 [==============================] - 13s 372ms/step - loss: 0.1023\n",
      "Epoch 10/10\n",
      "36/36 [==============================] - 13s 372ms/step - loss: 0.0891\n"
     ]
    },
    {
     "data": {
      "text/plain": "<keras.callbacks.History at 0x7fed38416d00>"
     },
     "execution_count": 6,
     "metadata": {},
     "output_type": "execute_result"
    }
   ],
   "source": [
    "model.fit(X_train, y_train, epochs=10)"
   ],
   "metadata": {
    "collapsed": false,
    "pycharm": {
     "name": "#%%\n"
    }
   }
  },
  {
   "cell_type": "code",
   "execution_count": 15,
   "outputs": [
    {
     "name": "stdout",
     "output_type": "stream",
     "text": [
      "Epoch 1/10\n",
      "36/36 [==============================] - 13s 374ms/step - loss: 0.0795\n",
      "Epoch 2/10\n",
      "36/36 [==============================] - 13s 369ms/step - loss: 0.0633\n",
      "Epoch 3/10\n",
      "36/36 [==============================] - 13s 368ms/step - loss: 0.0557\n",
      "Epoch 4/10\n",
      "36/36 [==============================] - 13s 371ms/step - loss: 0.0695\n",
      "Epoch 5/10\n",
      "36/36 [==============================] - 13s 370ms/step - loss: 0.0621\n",
      "Epoch 6/10\n",
      "36/36 [==============================] - 13s 369ms/step - loss: 0.0496\n",
      "Epoch 7/10\n",
      "36/36 [==============================] - 13s 368ms/step - loss: 0.0412\n",
      "Epoch 8/10\n",
      "36/36 [==============================] - 13s 370ms/step - loss: 0.0480\n",
      "Epoch 9/10\n",
      "36/36 [==============================] - 13s 367ms/step - loss: 0.0580\n",
      "Epoch 10/10\n",
      "36/36 [==============================] - 13s 369ms/step - loss: 0.0454\n"
     ]
    },
    {
     "data": {
      "text/plain": "<keras.callbacks.History at 0x7fed05f1afd0>"
     },
     "execution_count": 15,
     "metadata": {},
     "output_type": "execute_result"
    }
   ],
   "source": [
    "model.fit(X_train, y_train, epochs=10)"
   ],
   "metadata": {
    "collapsed": false,
    "pycharm": {
     "name": "#%%\n"
    }
   }
  },
  {
   "cell_type": "code",
   "execution_count": 16,
   "outputs": [
    {
     "name": "stdout",
     "output_type": "stream",
     "text": [
      "Epoch 1/10\n",
      "36/36 [==============================] - 15s 409ms/step - loss: 0.0430\n",
      "Epoch 2/10\n",
      "36/36 [==============================] - 14s 375ms/step - loss: 0.0369\n",
      "Epoch 3/10\n",
      "36/36 [==============================] - 13s 370ms/step - loss: 0.0363\n",
      "Epoch 4/10\n",
      "36/36 [==============================] - 13s 368ms/step - loss: 0.0438\n",
      "Epoch 5/10\n",
      "36/36 [==============================] - 13s 368ms/step - loss: 0.0438\n",
      "Epoch 6/10\n",
      "36/36 [==============================] - 13s 368ms/step - loss: 0.0352\n",
      "Epoch 7/10\n",
      "36/36 [==============================] - 13s 369ms/step - loss: 0.0462\n",
      "Epoch 8/10\n",
      "36/36 [==============================] - 13s 371ms/step - loss: 0.0532\n",
      "Epoch 9/10\n",
      "36/36 [==============================] - 13s 370ms/step - loss: 0.0380\n",
      "Epoch 10/10\n",
      "36/36 [==============================] - 13s 371ms/step - loss: 0.0396\n"
     ]
    },
    {
     "data": {
      "text/plain": "<keras.callbacks.History at 0x7fed05ebfe20>"
     },
     "execution_count": 16,
     "metadata": {},
     "output_type": "execute_result"
    }
   ],
   "source": [
    "model.fit(X_train, y_train, epochs=10)"
   ],
   "metadata": {
    "collapsed": false,
    "pycharm": {
     "name": "#%%\n"
    }
   }
  },
  {
   "cell_type": "code",
   "execution_count": 18,
   "outputs": [
    {
     "name": "stdout",
     "output_type": "stream",
     "text": [
      "Epoch 1/10\n",
      "36/36 [==============================] - 14s 376ms/step - loss: 0.0444\n",
      "Epoch 2/10\n",
      "36/36 [==============================] - 13s 366ms/step - loss: 0.0400\n",
      "Epoch 3/10\n",
      "36/36 [==============================] - 13s 372ms/step - loss: 0.0459\n",
      "Epoch 4/10\n",
      "36/36 [==============================] - 13s 368ms/step - loss: 0.0399\n",
      "Epoch 5/10\n",
      "36/36 [==============================] - 13s 370ms/step - loss: 0.0394\n",
      "Epoch 6/10\n",
      "36/36 [==============================] - 13s 369ms/step - loss: 0.0479\n",
      "Epoch 7/10\n",
      "36/36 [==============================] - 13s 368ms/step - loss: 0.0536\n",
      "Epoch 8/10\n",
      "36/36 [==============================] - 13s 367ms/step - loss: 0.0319\n",
      "Epoch 9/10\n",
      "36/36 [==============================] - 13s 367ms/step - loss: 0.0527\n",
      "Epoch 10/10\n",
      "36/36 [==============================] - 13s 370ms/step - loss: 0.0481\n"
     ]
    },
    {
     "data": {
      "text/plain": "<keras.callbacks.History at 0x7fed05e81190>"
     },
     "execution_count": 18,
     "metadata": {},
     "output_type": "execute_result"
    }
   ],
   "source": [
    "model.fit(X_train, y_train, epochs=10)"
   ],
   "metadata": {
    "collapsed": false,
    "pycharm": {
     "name": "#%%\n"
    }
   }
  },
  {
   "cell_type": "code",
   "execution_count": 8,
   "outputs": [],
   "source": [
    "def clean(preds):\n",
    "    res= []\n",
    "    for pred in preds:\n",
    "        d0 = abs(pred - 0)\n",
    "        d1 = abs(pred - 1)\n",
    "        if d0 < d1:\n",
    "            res.append(0)\n",
    "        else:\n",
    "            res.append(1)\n",
    "    return res"
   ],
   "metadata": {
    "collapsed": false,
    "pycharm": {
     "name": "#%%\n"
    }
   }
  },
  {
   "cell_type": "code",
   "execution_count": 9,
   "outputs": [],
   "source": [
    "from scipy.signal import medfilt\n",
    "cleaned = clean(model.predict(X_test))\n",
    "cleaned1 = medfilt(cleaned, 29)"
   ],
   "metadata": {
    "collapsed": false,
    "pycharm": {
     "name": "#%%\n"
    }
   }
  },
  {
   "cell_type": "code",
   "execution_count": 51,
   "outputs": [
    {
     "data": {
      "text/plain": "142"
     },
     "execution_count": 51,
     "metadata": {},
     "output_type": "execute_result"
    }
   ],
   "source": [
    "sum(clean(model.predict(X_test))[300:600])"
   ],
   "metadata": {
    "collapsed": false,
    "pycharm": {
     "name": "#%%\n"
    }
   }
  },
  {
   "cell_type": "code",
   "execution_count": null,
   "outputs": [],
   "source": [
    "model.predict(X_test)"
   ],
   "metadata": {
    "collapsed": false,
    "pycharm": {
     "name": "#%%\n"
    }
   }
  },
  {
   "cell_type": "code",
   "execution_count": 20,
   "outputs": [
    {
     "data": {
      "text/plain": "0.9451754385964912"
     },
     "execution_count": 20,
     "metadata": {},
     "output_type": "execute_result"
    }
   ],
   "source": [
    "from scipy.signal import medfilt\n",
    "cleaned = clean(model.predict(X_test))\n",
    "# cleaned1 = medfilt(cleaned, 3)\n",
    "accuracy_score(y_test, cleaned)"
   ],
   "metadata": {
    "collapsed": false,
    "pycharm": {
     "name": "#%%\n"
    }
   }
  },
  {
   "cell_type": "code",
   "execution_count": 126,
   "outputs": [
    {
     "data": {
      "text/plain": "0.8274509803921568"
     },
     "execution_count": 126,
     "metadata": {},
     "output_type": "execute_result"
    }
   ],
   "source": [
    "cleaned = clean(model.predict(X_test))\n",
    "accuracy_score(y_test, cleaned)"
   ],
   "metadata": {
    "collapsed": false,
    "pycharm": {
     "name": "#%%\n"
    }
   }
  },
  {
   "cell_type": "code",
   "execution_count": 130,
   "outputs": [
    {
     "data": {
      "text/plain": "[<matplotlib.lines.Line2D at 0x7f1024e85040>]"
     },
     "execution_count": 130,
     "metadata": {},
     "output_type": "execute_result"
    },
    {
     "data": {
      "text/plain": "<Figure size 432x288 with 1 Axes>",
      "image/png": "[encoded data removed]"
     },
     "metadata": {
      "needs_background": "light"
     },
     "output_type": "display_data"
    }
   ],
   "source": [
    "plt.plot(df.RSSI)"
   ],
   "metadata": {
    "collapsed": false,
    "pycharm": {
     "name": "#%%\n"
    }
   }
  },
  {
   "cell_type": "code",
   "execution_count": null,
   "outputs": [],
   "source": [
    "X_train[\"RSSI\"].to_numpy().reshape(-1, 1)"
   ],
   "metadata": {
    "collapsed": false,
    "pycharm": {
     "name": "#%%\n"
    }
   }
  },
  {
   "cell_type": "code",
   "execution_count": null,
   "outputs": [],
   "source": [
    "plot_model(\n",
    "    nn.model,\n",
    "    to_file=\"model.png\",\n",
    "    show_shapes=False,\n",
    "    show_dtype=False,\n",
    "    show_layer_names=True,\n",
    "    rankdir=\"TB\",\n",
    "    expand_nested=False,\n",
    "    dpi=96,\n",
    "    layer_range=None,\n",
    "    show_layer_activations=False,\n",
    ")"
   ],
   "metadata": {
    "collapsed": false,
    "pycharm": {
     "name": "#%%\n"
    }
   }
  },
  {
   "cell_type": "code",
   "execution_count": null,
   "outputs": [],
   "source": [
    "def clean(preds):\n",
    "    res= []\n",
    "    for pred in preds:\n",
    "        d0 = abs(pred - 0)\n",
    "        d1 = abs(pred - 1)\n",
    "        if d0 < d1:\n",
    "            res.append(0)\n",
    "        else:\n",
    "            res.append(1)\n",
    "    return res"
   ],
   "metadata": {
    "collapsed": false,
    "pycharm": {
     "name": "#%%\n"
    }
   }
  },
  {
   "cell_type": "code",
   "execution_count": null,
   "outputs": [],
   "source": [
    "from scipy.signal import medfilt\n",
    "cleaned = clean(nn.predict(testX=X_test))"
   ],
   "metadata": {
    "collapsed": false,
    "pycharm": {
     "name": "#%%\n"
    }
   }
  },
  {
   "cell_type": "code",
   "execution_count": null,
   "outputs": [],
   "source": [
    "accuracy_score(y_test, cleaned)"
   ],
   "metadata": {
    "collapsed": false,
    "pycharm": {
     "name": "#%%\n"
    }
   }
  },
  {
   "cell_type": "code",
   "execution_count": null,
   "outputs": [],
   "source": [
    "cleaned = medfilt(clean(nn.predict(pre.rssi)), 29)"
   ],
   "metadata": {
    "collapsed": false,
    "pycharm": {
     "name": "#%%\n"
    }
   }
  },
  {
   "cell_type": "code",
   "execution_count": null,
   "outputs": [],
   "source": [
    "nn.predict(abs1.rssi)"
   ],
   "metadata": {
    "collapsed": false,
    "pycharm": {
     "name": "#%%\n"
    }
   }
  },
  {
   "cell_type": "code",
   "execution_count": null,
   "outputs": [],
   "source": [
    "# from sklearn.ensemble import AdaBoostClassifier\n",
    "# forest = AdaBoostClassifier()\n",
    "# forest.fit(pre1.rssi.to_numpy()[:,np.newaxis], pre1.y)\n",
    "# predict = forest.predict(pre2.rssi.to_numpy()[:,np.newaxis])\n",
    "# accuracy_score(pre2.y.to_numpy(), medfilt(predict, kernel_size=13))"
   ],
   "metadata": {
    "collapsed": false,
    "pycharm": {
     "name": "#%%\n"
    }
   }
  }
 ],
 "metadata": {
  "kernelspec": {
   "display_name": "Python 3",
   "language": "python",
   "name": "python3"
  },
  "language_info": {
   "codemirror_mode": {
    "name": "ipython",
    "version": 2
   },
   "file_extension": ".py",
   "mimetype": "text/x-python",
   "name": "python",
   "nbconvert_exporter": "python",
   "pygments_lexer": "ipython2",
   "version": "2.7.6"
  }
 },
 "nbformat": 4,
 "nbformat_minor": 0
}